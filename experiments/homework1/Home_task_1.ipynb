{
 "cells": [
  {
   "cell_type": "code",
   "execution_count": 175,
   "metadata": {},
   "outputs": [],
   "source": [
    "import pandas as pd\n",
    "import matplotlib.pyplot as plt\n",
    "import numpy as np\n",
    "import seaborn as sns\n",
    "import datetime\n",
    "import random\n",
    "from statsmodels.stats.power import tt_ind_solve_power\n",
    "\n",
    "def date_converter(x):\n",
    "    return datetime.datetime.strptime(x,'%Y-%m-%d')"
   ]
  },
  {
   "cell_type": "markdown",
   "metadata": {},
   "source": [
    "Срок выполнения задания: 17 марта 17:00.\n",
    "\n",
    "\n",
    "### Задание\n",
    "Вам предстоит разработать дизайн эксперимента по тестированию монетизационных продуктов.\n",
    "В конечном счёте, в монтизационных продуктах нас всегда интересует увеличение выручки, \n",
    "но к сожалению не всегда мы можем зафиксировать изменение именно этой метрики.\n",
    "\n",
    "#### Кейс\n",
    "Вы аналитик в продуктовой дискавери команде.\n",
    "На текущий момент приближается начало нового квартала и вам необходимо спланировать\n",
    "эксперименты в нём.\n",
    "\n",
    "У вас есть два продукта:\n",
    "- один базовый продукт, который предоставляет минимальный набор услуг на вашем ресурсе;\n",
    "- один продвинутый продукт, который предоставляет расширенный набор услуг.\n",
    "\n",
    "На текущий момент на квартал у вашей команды есть для проверки две гипотезы:\n",
    "- Дополнительное информирование об эффективности услуг будет стимулировать их покупку;\n",
    "- Повышение цены базового продукта должно стимулировать покупку продвинутого продукта\n"
   ]
  },
  {
   "cell_type": "markdown",
   "metadata": {},
   "source": [
    "#### Для планирования эксперимента изучите данные и метрики (2 балла):\n",
    "\n",
    "- Загрузите файл и изучите данные;\n",
    "- Подумайте над тем, какие метрики можно выделить на основе этих данных: выручка, пользователи, транзакции, средний чек и т.д.\n",
    "- Постройте графики плотности распределения для этих метрик и сделайте выводы о характере распределений: тип, наличие выбросов, насколько сильный разброс;\n",
    "- Изучите основные статистики этих метрик: среднее, стандартное отклонение;\n",
    "- Изучите то, насколько эти статистики подвержены сезональности.\n",
    "\n",
    "\n",
    "#### Формализуйте гипотезы (4 балла):\n",
    "\n",
    "- Опишите метрики и статистики, изменение которых вы ожидаете;\n",
    "- Предположите какое относительное изменение этих статистик в процентах вы ожидаете.\n",
    "\n",
    "#### Предскажите минимально детектируемый эффект для своих метрик и спланируйте эксперименты внутри квартала (4 балла):\n",
    "\n",
    "- Принимая в расчёт максимально возможные размеры групп и ограничения по длительности в квартал рассмотрите разные планы проведения тестов и предскажите их чувствительность;\n",
    "- Определите наиболее оптимальный план экспериментов. Обоснуйте, почему вы его считаете оптимальным.\n",
    "\n",
    "\n",
    "#### * Оптимизация плана (2 балла):\n",
    "Предложите варианты ускорения экспериментов — всегда могут образоваться ситуации, когда ваши гипотезы не подтвердились и они требуют изменения или уточнения и необходимости повторных тестов. Цели достигать всегда хорошо в рамках отведённого на них срока. Какие параметры экспериментов вы поменяете? К каким последствиям могут привести такие изменения?"
   ]
  },
  {
   "cell_type": "markdown",
   "metadata": {},
   "source": [
    "#### Описание данныx\n",
    "\n",
    "event_date - дата \n",
    "\n",
    "user_id - идентификатор пользователя\n",
    "\n",
    "product - тип продукта\n",
    "\n",
    "amount - сумма покупок\n",
    "\n",
    "transactions - количество транзакций\n"
   ]
  },
  {
   "cell_type": "markdown",
   "metadata": {},
   "source": [
    "### Задание 1. Для планирования эксперимента изучим данные и метрики\n",
    "\n",
    "1. Загрузим данные из .csv файл и изучим созданный датафрейм."
   ]
  },
  {
   "cell_type": "code",
   "execution_count": 176,
   "metadata": {},
   "outputs": [],
   "source": [
    "df = pd.read_csv('user_transactions.csv')\n",
    "df['event_date']=df.event_date.apply(date_converter)"
   ]
  },
  {
   "cell_type": "code",
   "execution_count": 177,
   "metadata": {},
   "outputs": [
    {
     "data": {
      "text/html": [
       "<div>\n",
       "<style scoped>\n",
       "    .dataframe tbody tr th:only-of-type {\n",
       "        vertical-align: middle;\n",
       "    }\n",
       "\n",
       "    .dataframe tbody tr th {\n",
       "        vertical-align: top;\n",
       "    }\n",
       "\n",
       "    .dataframe thead th {\n",
       "        text-align: right;\n",
       "    }\n",
       "</style>\n",
       "<table border=\"1\" class=\"dataframe\">\n",
       "  <thead>\n",
       "    <tr style=\"text-align: right;\">\n",
       "      <th></th>\n",
       "      <th>event_date</th>\n",
       "      <th>user_id</th>\n",
       "      <th>product</th>\n",
       "      <th>amount</th>\n",
       "      <th>transactions</th>\n",
       "    </tr>\n",
       "  </thead>\n",
       "  <tbody>\n",
       "    <tr>\n",
       "      <th>0</th>\n",
       "      <td>2020-09-29</td>\n",
       "      <td>40746820883461494</td>\n",
       "      <td>basic</td>\n",
       "      <td>95.0</td>\n",
       "      <td>1</td>\n",
       "    </tr>\n",
       "    <tr>\n",
       "      <th>1</th>\n",
       "      <td>2020-09-29</td>\n",
       "      <td>41102328408008828</td>\n",
       "      <td>advanced</td>\n",
       "      <td>279.0</td>\n",
       "      <td>1</td>\n",
       "    </tr>\n",
       "    <tr>\n",
       "      <th>2</th>\n",
       "      <td>2020-09-29</td>\n",
       "      <td>63464894315144075</td>\n",
       "      <td>basic</td>\n",
       "      <td>64.0</td>\n",
       "      <td>1</td>\n",
       "    </tr>\n",
       "    <tr>\n",
       "      <th>3</th>\n",
       "      <td>2020-09-29</td>\n",
       "      <td>111526991873455341</td>\n",
       "      <td>basic</td>\n",
       "      <td>399.0</td>\n",
       "      <td>1</td>\n",
       "    </tr>\n",
       "    <tr>\n",
       "      <th>4</th>\n",
       "      <td>2020-09-29</td>\n",
       "      <td>169522572963414231</td>\n",
       "      <td>basic</td>\n",
       "      <td>199.0</td>\n",
       "      <td>1</td>\n",
       "    </tr>\n",
       "  </tbody>\n",
       "</table>\n",
       "</div>"
      ],
      "text/plain": [
       "  event_date             user_id   product  amount  transactions\n",
       "0 2020-09-29   40746820883461494     basic    95.0             1\n",
       "1 2020-09-29   41102328408008828  advanced   279.0             1\n",
       "2 2020-09-29   63464894315144075     basic    64.0             1\n",
       "3 2020-09-29  111526991873455341     basic   399.0             1\n",
       "4 2020-09-29  169522572963414231     basic   199.0             1"
      ]
     },
     "execution_count": 177,
     "metadata": {},
     "output_type": "execute_result"
    }
   ],
   "source": [
    "df.head()"
   ]
  },
  {
   "cell_type": "code",
   "execution_count": 8,
   "metadata": {},
   "outputs": [
    {
     "name": "stdout",
     "output_type": "stream",
     "text": [
      "<class 'pandas.core.frame.DataFrame'>\n",
      "RangeIndex: 1278186 entries, 0 to 1278185\n",
      "Data columns (total 5 columns):\n",
      " #   Column        Non-Null Count    Dtype         \n",
      "---  ------        --------------    -----         \n",
      " 0   event_date    1278186 non-null  datetime64[ns]\n",
      " 1   user_id       1278186 non-null  int64         \n",
      " 2   product       1278186 non-null  object        \n",
      " 3   amount        1278186 non-null  float64       \n",
      " 4   transactions  1278186 non-null  int64         \n",
      "dtypes: datetime64[ns](1), float64(1), int64(2), object(1)\n",
      "memory usage: 48.8+ MB\n"
     ]
    }
   ],
   "source": [
    "df.info()"
   ]
  },
  {
   "cell_type": "markdown",
   "metadata": {},
   "source": [
    "Изучим диапазон дат, число уникальных  пользователей, виды существующих продуктов."
   ]
  },
  {
   "cell_type": "code",
   "execution_count": 11,
   "metadata": {},
   "outputs": [
    {
     "data": {
      "text/plain": [
       "Timestamp('2020-09-29 00:00:00')"
      ]
     },
     "execution_count": 11,
     "metadata": {},
     "output_type": "execute_result"
    }
   ],
   "source": [
    "df['event_date'].min()"
   ]
  },
  {
   "cell_type": "code",
   "execution_count": 12,
   "metadata": {},
   "outputs": [
    {
     "data": {
      "text/plain": [
       "Timestamp('2020-12-29 00:00:00')"
      ]
     },
     "execution_count": 12,
     "metadata": {},
     "output_type": "execute_result"
    }
   ],
   "source": [
    "df['event_date'].max()"
   ]
  },
  {
   "cell_type": "markdown",
   "metadata": {},
   "source": [
    "Видим, что в датафрейме приведены события с 29.09.2020 до 29.12.2020, то есть полных 3 месяца - октябрь, ноябрь и декабрь 2020"
   ]
  },
  {
   "cell_type": "code",
   "execution_count": 16,
   "metadata": {},
   "outputs": [
    {
     "data": {
      "text/plain": [
       "(446935,)"
      ]
     },
     "execution_count": 16,
     "metadata": {},
     "output_type": "execute_result"
    }
   ],
   "source": [
    "df['user_id'].unique().shape"
   ]
  },
  {
   "cell_type": "code",
   "execution_count": 18,
   "metadata": {},
   "outputs": [
    {
     "data": {
      "text/plain": [
       "(1278186,)"
      ]
     },
     "execution_count": 18,
     "metadata": {},
     "output_type": "execute_result"
    }
   ],
   "source": [
    "df['user_id'].shape"
   ]
  },
  {
   "cell_type": "markdown",
   "metadata": {},
   "source": [
    "Видим, что в датафрейме 1278186 событий, созданных 446935 пользователями."
   ]
  },
  {
   "cell_type": "code",
   "execution_count": 57,
   "metadata": {},
   "outputs": [
    {
     "data": {
      "text/html": [
       "<div>\n",
       "<style scoped>\n",
       "    .dataframe tbody tr th:only-of-type {\n",
       "        vertical-align: middle;\n",
       "    }\n",
       "\n",
       "    .dataframe tbody tr th {\n",
       "        vertical-align: top;\n",
       "    }\n",
       "\n",
       "    .dataframe thead th {\n",
       "        text-align: right;\n",
       "    }\n",
       "</style>\n",
       "<table border=\"1\" class=\"dataframe\">\n",
       "  <thead>\n",
       "    <tr style=\"text-align: right;\">\n",
       "      <th></th>\n",
       "      <th>event_date</th>\n",
       "      <th>user_id</th>\n",
       "      <th>product</th>\n",
       "      <th>amount</th>\n",
       "      <th>transactions</th>\n",
       "    </tr>\n",
       "  </thead>\n",
       "  <tbody>\n",
       "    <tr>\n",
       "      <th>258783</th>\n",
       "      <td>2020-11-03</td>\n",
       "      <td>385751938480890</td>\n",
       "      <td>advanced</td>\n",
       "      <td>839.0</td>\n",
       "      <td>1</td>\n",
       "    </tr>\n",
       "    <tr>\n",
       "      <th>379847</th>\n",
       "      <td>2020-11-18</td>\n",
       "      <td>385751938480890</td>\n",
       "      <td>basic</td>\n",
       "      <td>239.0</td>\n",
       "      <td>1</td>\n",
       "    </tr>\n",
       "    <tr>\n",
       "      <th>384006</th>\n",
       "      <td>2020-11-08</td>\n",
       "      <td>385751938480890</td>\n",
       "      <td>basic</td>\n",
       "      <td>239.0</td>\n",
       "      <td>1</td>\n",
       "    </tr>\n",
       "    <tr>\n",
       "      <th>415860</th>\n",
       "      <td>2020-11-06</td>\n",
       "      <td>385751938480890</td>\n",
       "      <td>advanced</td>\n",
       "      <td>839.0</td>\n",
       "      <td>1</td>\n",
       "    </tr>\n",
       "    <tr>\n",
       "      <th>521942</th>\n",
       "      <td>2020-11-05</td>\n",
       "      <td>385751938480890</td>\n",
       "      <td>advanced</td>\n",
       "      <td>839.0</td>\n",
       "      <td>1</td>\n",
       "    </tr>\n",
       "    <tr>\n",
       "      <th>683837</th>\n",
       "      <td>2020-11-11</td>\n",
       "      <td>385751938480890</td>\n",
       "      <td>basic</td>\n",
       "      <td>239.0</td>\n",
       "      <td>1</td>\n",
       "    </tr>\n",
       "    <tr>\n",
       "      <th>1135899</th>\n",
       "      <td>2020-11-10</td>\n",
       "      <td>385751938480890</td>\n",
       "      <td>basic</td>\n",
       "      <td>239.0</td>\n",
       "      <td>1</td>\n",
       "    </tr>\n",
       "  </tbody>\n",
       "</table>\n",
       "</div>"
      ],
      "text/plain": [
       "        event_date          user_id   product  amount  transactions\n",
       "258783  2020-11-03  385751938480890  advanced   839.0             1\n",
       "379847  2020-11-18  385751938480890     basic   239.0             1\n",
       "384006  2020-11-08  385751938480890     basic   239.0             1\n",
       "415860  2020-11-06  385751938480890  advanced   839.0             1\n",
       "521942  2020-11-05  385751938480890  advanced   839.0             1\n",
       "683837  2020-11-11  385751938480890     basic   239.0             1\n",
       "1135899 2020-11-10  385751938480890     basic   239.0             1"
      ]
     },
     "execution_count": 57,
     "metadata": {},
     "output_type": "execute_result"
    }
   ],
   "source": [
    "df[df['user_id'] == 385751938480890]"
   ]
  },
  {
   "cell_type": "markdown",
   "metadata": {},
   "source": [
    "Видим, что есть пользователи, которые пользуются как basic, так и advanced услугами."
   ]
  },
  {
   "cell_type": "markdown",
   "metadata": {},
   "source": [
    "2. Изучим, какие метрики можно выделить на основе имеющихся данных"
   ]
  },
  {
   "cell_type": "markdown",
   "metadata": {},
   "source": [
    "- **Среднее число транзакций в день на одного пользователя**\n",
    "\n",
    "Эта метрика показывает, как изменяется общее ежедневное число покупок пользователей. Дополнительно можно измерять эту метрику по срезам advanced и basic.\n",
    "\n",
    "- **DAU** daily active users, где active означает транзакцию.\n",
    "\n",
    "Эта метрика покажет, какое число уникальных пользователей в день пользуются нашими услугами.\n",
    "\n",
    "- **ARPU per month** \n",
    "\n",
    "ARPU на пользователя за месяц отобразит, как изменится средняя выручка с пользователя.\n",
    "\n",
    "- **Доля покупок advanced услуг за весь период на одного пользователя**\n",
    "\n",
    "Данная метрика отображает долю "
   ]
  },
  {
   "cell_type": "markdown",
   "metadata": {},
   "source": [
    "3. Построим графики плотности распределения для этих метрик и сделаем выводы о характере распределений: тип, наличие выбросов, насколько сильный разброс. Изучим сезональность метрик."
   ]
  },
  {
   "cell_type": "markdown",
   "metadata": {},
   "source": [
    "- **Общее число транзакций в день (по месяцам)**"
   ]
  },
  {
   "cell_type": "code",
   "execution_count": 99,
   "metadata": {},
   "outputs": [],
   "source": [
    "import matplotlib.pyplot as plt"
   ]
  },
  {
   "cell_type": "code",
   "execution_count": 138,
   "metadata": {},
   "outputs": [
    {
     "data": {
      "text/plain": [
       "event_date\n",
       "2020-09-29    16218.0\n",
       "2020-09-30    17474.0\n",
       "2020-10-01    16548.0\n",
       "2020-10-02    17771.0\n",
       "2020-10-03    14182.0\n",
       "               ...   \n",
       "2020-12-25    21518.0\n",
       "2020-12-26    18453.0\n",
       "2020-12-27    16069.0\n",
       "2020-12-28    23391.0\n",
       "2020-12-29    21938.0\n",
       "Name: transactions, Length: 92, dtype: float64"
      ]
     },
     "execution_count": 138,
     "metadata": {},
     "output_type": "execute_result"
    }
   ],
   "source": [
    "transactions_per_day = df.groupby('event_date').sum('transactions')['transactions']\n",
    "transactions_per_day"
   ]
  },
  {
   "cell_type": "code",
   "execution_count": 151,
   "metadata": {},
   "outputs": [
    {
     "data": {
      "image/png": "[encoded data removed]",
      "text/plain": [
       "<Figure size 576x432 with 1 Axes>"
      ]
     },
     "metadata": {
      "needs_background": "light"
     },
     "output_type": "display_data"
    }
   ],
   "source": [
    "plt.figure(figsize = (8, 6))\n",
    "plt.hist(transactions_per_day.loc['2020-10-01':'2020-10-30'], bins = 10)\n",
    "plt.hist(transactions_per_day.loc['2020-11-01':'2020-11-30'], bins = 10)\n",
    "plt.hist(transactions_per_day.loc['2020-12-01':'2020-12-29'], bins = 10)\n",
    "plt.show()"
   ]
  },
  {
   "cell_type": "markdown",
   "metadata": {},
   "source": [
    "Видим, что данные имеют распределение, близкое к нормальному. При этом присутствуют выбросы, обсуловленные малым размером выборок."
   ]
  },
  {
   "cell_type": "code",
   "execution_count": 106,
   "metadata": {},
   "outputs": [
    {
     "data": {
      "image/png": "[encoded data removed]",
      "text/plain": [
       "<Figure size 720x504 with 1 Axes>"
      ]
     },
     "metadata": {
      "needs_background": "light"
     },
     "output_type": "display_data"
    }
   ],
   "source": [
    "plt.figure(figsize = (10, 7))\n",
    "plt.plot(transactions_per_day)\n",
    "plt.show()"
   ]
  },
  {
   "cell_type": "markdown",
   "metadata": {},
   "source": [
    "Видим явную сезонность в данных - один сезон длится 1 неделю. При это присутствует явный тренд на увеличение ежедневного числа транзакций."
   ]
  },
  {
   "cell_type": "markdown",
   "metadata": {},
   "source": [
    "- **Число транзакций в месяц, приходящееся на одного пользователя.**"
   ]
  },
  {
   "cell_type": "code",
   "execution_count": 181,
   "metadata": {},
   "outputs": [],
   "source": [
    "total_trans_per_month = df.groupby('user_id').sum('transactions')['transactions']"
   ]
  },
  {
   "cell_type": "code",
   "execution_count": 189,
   "metadata": {},
   "outputs": [
    {
     "data": {
      "image/png": "[encoded data removed]",
      "text/plain": [
       "<Figure size 432x288 with 1 Axes>"
      ]
     },
     "metadata": {
      "needs_background": "light"
     },
     "output_type": "display_data"
    }
   ],
   "source": [
    "plt.hist(total_trans_per_month)\n",
    "plt.show()"
   ]
  },
  {
   "cell_type": "code",
   "execution_count": 190,
   "metadata": {},
   "outputs": [
    {
     "data": {
      "image/png": "[encoded data removed]",
      "text/plain": [
       "<Figure size 432x288 with 1 Axes>"
      ]
     },
     "metadata": {
      "needs_background": "light"
     },
     "output_type": "display_data"
    }
   ],
   "source": [
    "plt.hist(total_trans_per_month[total_trans_per_month > av_per_month.quantile(0.5)], bins = 30)\n",
    "plt.show()"
   ]
  },
  {
   "cell_type": "markdown",
   "metadata": {},
   "source": [
    "Видим, что распределение имеет тяжелый правый хвост, является скошенным вправо."
   ]
  },
  {
   "cell_type": "markdown",
   "metadata": {},
   "source": [
    "- **DAU** daily active users, где active означает транзакцию."
   ]
  },
  {
   "cell_type": "code",
   "execution_count": 127,
   "metadata": {},
   "outputs": [],
   "source": [
    "dau_users = df.drop_duplicates(subset=['user_id']).groupby('event_date')['user_id'].count()"
   ]
  },
  {
   "cell_type": "code",
   "execution_count": 128,
   "metadata": {},
   "outputs": [
    {
     "data": {
      "image/png": "[encoded data removed]",
      "text/plain": [
       "<Figure size 720x504 with 1 Axes>"
      ]
     },
     "metadata": {
      "needs_background": "light"
     },
     "output_type": "display_data"
    }
   ],
   "source": [
    "plt.figure(figsize = (10, 7))\n",
    "plt.plot(dau_users)\n",
    "plt.show()"
   ]
  },
  {
   "cell_type": "markdown",
   "metadata": {},
   "source": [
    "Видим, что ежедневное число уникальных пользователей падает, но оставшиеся пользователи стали производить больше транзакций, а следовательно и выручки."
   ]
  },
  {
   "cell_type": "markdown",
   "metadata": {},
   "source": [
    "- **Average check per month** \n",
    "\n",
    "Будем смотреть средний чек пользователя за каждый месяц в имеющейся выборке. "
   ]
  },
  {
   "cell_type": "code",
   "execution_count": 164,
   "metadata": {},
   "outputs": [
    {
     "data": {
      "text/plain": [
       "user_id\n",
       "1809139296429     980.000\n",
       "1912219714366     100.000\n",
       "23708868092799     68.375\n",
       "45305541518475     79.000\n",
       "51991933272698     99.500\n",
       "Name: amount, dtype: float64"
      ]
     },
     "execution_count": 164,
     "metadata": {},
     "output_type": "execute_result"
    }
   ],
   "source": [
    "av_per_month = df.groupby(['user_id']).mean(['amount'])['amount']\n",
    "av_per_month.head()"
   ]
  },
  {
   "cell_type": "code",
   "execution_count": 161,
   "metadata": {},
   "outputs": [
    {
     "data": {
      "image/png": "[encoded data removed]",
      "text/plain": [
       "<Figure size 432x288 with 1 Axes>"
      ]
     },
     "metadata": {
      "needs_background": "light"
     },
     "output_type": "display_data"
    }
   ],
   "source": [
    "plt.hist(av_per_month, bins = 50)\n",
    "plt.show()"
   ]
  },
  {
   "cell_type": "code",
   "execution_count": 176,
   "metadata": {},
   "outputs": [
    {
     "data": {
      "image/png": "[encoded data removed]",
      "text/plain": [
       "<Figure size 432x288 with 1 Axes>"
      ]
     },
     "metadata": {
      "needs_background": "light"
     },
     "output_type": "display_data"
    }
   ],
   "source": [
    "corrected_av = av_per_month[av_per_month > av_per_month.quantile(0.999)]\n",
    "plt.hist(corrected_av, bins = 50)\n",
    "plt.show()"
   ]
  },
  {
   "cell_type": "markdown",
   "metadata": {},
   "source": [
    "Видим, что данные имеют распределение, близкое к экспоненциальному. При этом оно является \"тяжелохвостым\", присуствуют крупные выбросы."
   ]
  },
  {
   "cell_type": "markdown",
   "metadata": {},
   "source": [
    "### Задание 2. Формализация гипотез\n",
    "\n",
    "Повторим гипотезы, которые нужно проверить:\n",
    "\n",
    "*Гипотеза 1:* Дополнительное информирование об эффективности услуг будет стимулировать их покупку\n",
    "\n",
    "*Гипотеза 2:* Повышение цены базового продукта должно стимулировать покупку продвинутого продукта\n",
    "\n",
    "\n",
    "\n",
    "1. **Опишем метрики и статистики, изменение которых мы ожидаем**\n",
    "\n",
    "- Гипотеза 1. Если мы ожидаем, что увеличение информирования об услугах (treatment) компании стимулирует покупку услуг (в любой форме продукта, как basic, так и advanced), то следует ожидать увеличение\n",
    "    - Число уникальных пользователей, совершивших транзакцию\n",
    "\n",
    "- Гипотеза 2. Если мы ожидаем, что повышение цены на базовый продукт увеличит число покупок advanced продукта и уменьшит число пользователей basic, то следует ожидать, что:\n",
    "    - Увеличится Average Check\n",
    "    - Увеличится среднее число транзакций тарифа advanced\n",
    "    - Уменьшится среднее число транзакций тарифа basic\n",
    "    \n",
    "При этом важно следить, чтобы не уменьшилась выручка от всех продуктов.\n",
    "\n",
    "2. **Предположите какое относительное изменение этих статистик в процентах вы ожидаете**\n",
    "\n",
    "- Гипотеза 1. Ожидаем, что\n",
    "    - Среднее число транзакций увеличится на 5%\n",
    "    \n",
    "- Гипотеза 2. Ожидаем, что \n",
    "    - Average Check увеличится на 5 %\n",
    "    - Увеличится среднее число транзакций тарифа advanced на 15%\n",
    "    - Уменьшится среднее число транзакций тарифа basic на 10%\n",
    "    \n"
   ]
  },
  {
   "cell_type": "markdown",
   "metadata": {},
   "source": [
    "### 3. Предскажем минимально детектируемый эффект для своих метрик и спланируем эксперименты внутри квартала\n",
    "\n",
    "**1. Принимая в расчёт максимально возможные размеры групп и ограничения по длительности в квартал рассмотрите разные планы проведения тестов и предскажите их чувствительность**\n",
    "\n",
    "- Гипотеза 1.\n",
    "\n"
   ]
  },
  {
   "cell_type": "code",
   "execution_count": 193,
   "metadata": {},
   "outputs": [
    {
     "data": {
      "text/html": [
       "<div>\n",
       "<style scoped>\n",
       "    .dataframe tbody tr th:only-of-type {\n",
       "        vertical-align: middle;\n",
       "    }\n",
       "\n",
       "    .dataframe tbody tr th {\n",
       "        vertical-align: top;\n",
       "    }\n",
       "\n",
       "    .dataframe thead th {\n",
       "        text-align: right;\n",
       "    }\n",
       "</style>\n",
       "<table border=\"1\" class=\"dataframe\">\n",
       "  <thead>\n",
       "    <tr style=\"text-align: right;\">\n",
       "      <th></th>\n",
       "      <th>event_date</th>\n",
       "      <th>user_id</th>\n",
       "      <th>product</th>\n",
       "      <th>amount</th>\n",
       "      <th>transactions</th>\n",
       "    </tr>\n",
       "  </thead>\n",
       "  <tbody>\n",
       "  </tbody>\n",
       "</table>\n",
       "</div>"
      ],
      "text/plain": [
       "Empty DataFrame\n",
       "Columns: [event_date, user_id, product, amount, transactions]\n",
       "Index: []"
      ]
     },
     "execution_count": 193,
     "metadata": {},
     "output_type": "execute_result"
    }
   ],
   "source": [
    "df[df['transactions'] == 0]"
   ]
  },
  {
   "cell_type": "code",
   "execution_count": 198,
   "metadata": {},
   "outputs": [
    {
     "data": {
      "text/html": [
       "<div>\n",
       "<style scoped>\n",
       "    .dataframe tbody tr th:only-of-type {\n",
       "        vertical-align: middle;\n",
       "    }\n",
       "\n",
       "    .dataframe tbody tr th {\n",
       "        vertical-align: top;\n",
       "    }\n",
       "\n",
       "    .dataframe thead th {\n",
       "        text-align: right;\n",
       "    }\n",
       "</style>\n",
       "<table border=\"1\" class=\"dataframe\">\n",
       "  <thead>\n",
       "    <tr style=\"text-align: right;\">\n",
       "      <th></th>\n",
       "      <th>event_date</th>\n",
       "      <th>user_id</th>\n",
       "      <th>product</th>\n",
       "      <th>amount</th>\n",
       "      <th>transactions</th>\n",
       "    </tr>\n",
       "  </thead>\n",
       "  <tbody>\n",
       "    <tr>\n",
       "      <th>0</th>\n",
       "      <td>2020-09-29</td>\n",
       "      <td>40746820883461494</td>\n",
       "      <td>basic</td>\n",
       "      <td>95.0</td>\n",
       "      <td>1</td>\n",
       "    </tr>\n",
       "    <tr>\n",
       "      <th>203377</th>\n",
       "      <td>2020-09-29</td>\n",
       "      <td>3632645438359295997</td>\n",
       "      <td>advanced</td>\n",
       "      <td>112.0</td>\n",
       "      <td>1</td>\n",
       "    </tr>\n",
       "    <tr>\n",
       "      <th>203376</th>\n",
       "      <td>2020-09-29</td>\n",
       "      <td>3612398858545767519</td>\n",
       "      <td>basic</td>\n",
       "      <td>129.0</td>\n",
       "      <td>1</td>\n",
       "    </tr>\n",
       "    <tr>\n",
       "      <th>203375</th>\n",
       "      <td>2020-09-29</td>\n",
       "      <td>3545876629313632732</td>\n",
       "      <td>basic</td>\n",
       "      <td>130.0</td>\n",
       "      <td>1</td>\n",
       "    </tr>\n",
       "    <tr>\n",
       "      <th>203374</th>\n",
       "      <td>2020-09-29</td>\n",
       "      <td>3520743182106932297</td>\n",
       "      <td>basic</td>\n",
       "      <td>52.0</td>\n",
       "      <td>1</td>\n",
       "    </tr>\n",
       "    <tr>\n",
       "      <th>...</th>\n",
       "      <td>...</td>\n",
       "      <td>...</td>\n",
       "      <td>...</td>\n",
       "      <td>...</td>\n",
       "      <td>...</td>\n",
       "    </tr>\n",
       "    <tr>\n",
       "      <th>1074230</th>\n",
       "      <td>2020-12-29</td>\n",
       "      <td>3031244012501876243</td>\n",
       "      <td>basic</td>\n",
       "      <td>68.0</td>\n",
       "      <td>1</td>\n",
       "    </tr>\n",
       "    <tr>\n",
       "      <th>1074231</th>\n",
       "      <td>2020-12-29</td>\n",
       "      <td>3052121922449227129</td>\n",
       "      <td>basic</td>\n",
       "      <td>90.0</td>\n",
       "      <td>2</td>\n",
       "    </tr>\n",
       "    <tr>\n",
       "      <th>1074232</th>\n",
       "      <td>2020-12-29</td>\n",
       "      <td>3068055025212248434</td>\n",
       "      <td>basic</td>\n",
       "      <td>129.0</td>\n",
       "      <td>1</td>\n",
       "    </tr>\n",
       "    <tr>\n",
       "      <th>1074206</th>\n",
       "      <td>2020-12-29</td>\n",
       "      <td>2733206983450892976</td>\n",
       "      <td>basic</td>\n",
       "      <td>28.0</td>\n",
       "      <td>1</td>\n",
       "    </tr>\n",
       "    <tr>\n",
       "      <th>1278185</th>\n",
       "      <td>2020-12-29</td>\n",
       "      <td>9219633945080038962</td>\n",
       "      <td>basic</td>\n",
       "      <td>79.0</td>\n",
       "      <td>1</td>\n",
       "    </tr>\n",
       "  </tbody>\n",
       "</table>\n",
       "<p>1278186 rows × 5 columns</p>\n",
       "</div>"
      ],
      "text/plain": [
       "        event_date              user_id   product  amount  transactions\n",
       "0       2020-09-29    40746820883461494     basic    95.0             1\n",
       "203377  2020-09-29  3632645438359295997  advanced   112.0             1\n",
       "203376  2020-09-29  3612398858545767519     basic   129.0             1\n",
       "203375  2020-09-29  3545876629313632732     basic   130.0             1\n",
       "203374  2020-09-29  3520743182106932297     basic    52.0             1\n",
       "...            ...                  ...       ...     ...           ...\n",
       "1074230 2020-12-29  3031244012501876243     basic    68.0             1\n",
       "1074231 2020-12-29  3052121922449227129     basic    90.0             2\n",
       "1074232 2020-12-29  3068055025212248434     basic   129.0             1\n",
       "1074206 2020-12-29  2733206983450892976     basic    28.0             1\n",
       "1278185 2020-12-29  9219633945080038962     basic    79.0             1\n",
       "\n",
       "[1278186 rows x 5 columns]"
      ]
     },
     "execution_count": 198,
     "metadata": {},
     "output_type": "execute_result"
    }
   ],
   "source": [
    "df.sort_values('event_date')"
   ]
  },
  {
   "cell_type": "markdown",
   "metadata": {},
   "source": [
    "Создадим следующие методы для того, чтобы на основе данных выбирать чувствительность созданных метрик и тестов. "
   ]
  },
  {
   "cell_type": "code",
   "execution_count": 186,
   "metadata": {},
   "outputs": [],
   "source": [
    "def choose_date(data, start_date, delta, share): \n",
    "    tmp = data[(data.event_date>=start_date)&(data.event_date<=start_date+datetime.timedelta(days=delta))]\n",
    "    tmp=tmp.groupby(['user_id']).sum().reset_index()\n",
    "    x = tmp[(tmp.user_id)%100<=100*share].reset_index()\n",
    "    return x"
   ]
  },
  {
   "cell_type": "code",
   "execution_count": 195,
   "metadata": {},
   "outputs": [],
   "source": [
    "def get_mde(sample: list, alpha = 0.05, power = 0.8) -> float:\n",
    "    mean = np.mean(sample)\n",
    "    std = np.std(sample)\n",
    "    SE = tt_ind_solve_power(alpha=alpha, power=power, nobs1=len(sample), ratio=1, alternative = 'two-sided')\n",
    "    mde = (SE*std)/mean\n",
    "    return mde\n",
    "\n",
    "def toFixed(numObj, digits=0):\n",
    "    return f\"{numObj:.{digits}f}\"\n"
   ]
  },
  {
   "cell_type": "markdown",
   "metadata": {},
   "source": [
    "- Проверим гипотезу 1.\n",
    "\n",
    "Будем перебирать возможные относительные размеры групп и продолжительность эксперемента от 1 до 4 недель. MDE будем считать на новейших данных, полученных до эксперимента. "
   ]
  },
  {
   "cell_type": "code",
   "execution_count": 200,
   "metadata": {},
   "outputs": [
    {
     "name": "stdout",
     "output_type": "stream",
     "text": [
      "Продолжительность эксперимента 1 нед., share = 0.1, MDE = 6.9 %\n",
      "Продолжительность эксперимента 1 нед., share = 0.2, MDE = 6.0 %\n",
      "Продолжительность эксперимента 1 нед., share = 0.3, MDE = 4.9 %\n",
      "Продолжительность эксперимента 1 нед., share = 0.4, MDE = 4.5 %\n",
      "Продолжительность эксперимента 1 нед., share = 0.5, MDE = 3.9 %\n",
      "Продолжительность эксперимента 1 нед., share = 0.6, MDE = 3.5 %\n",
      "Продолжительность эксперимента 2 нед., share = 0.1, MDE = 6.6 %\n",
      "Продолжительность эксперимента 2 нед., share = 0.2, MDE = 5.7 %\n",
      "Продолжительность эксперимента 2 нед., share = 0.3, MDE = 4.7 %\n",
      "Продолжительность эксперимента 2 нед., share = 0.4, MDE = 4.6 %\n",
      "Продолжительность эксперимента 2 нед., share = 0.5, MDE = 4.0 %\n",
      "Продолжительность эксперимента 2 нед., share = 0.6, MDE = 3.6 %\n",
      "Продолжительность эксперимента 3 нед., share = 0.1, MDE = 6.3 %\n",
      "Продолжительность эксперимента 3 нед., share = 0.2, MDE = 5.6 %\n",
      "Продолжительность эксперимента 3 нед., share = 0.3, MDE = 4.6 %\n",
      "Продолжительность эксперимента 3 нед., share = 0.4, MDE = 4.6 %\n",
      "Продолжительность эксперимента 3 нед., share = 0.5, MDE = 4.0 %\n",
      "Продолжительность эксперимента 3 нед., share = 0.6, MDE = 3.6 %\n",
      "Продолжительность эксперимента 4 нед., share = 0.1, MDE = 6.2 %\n",
      "Продолжительность эксперимента 4 нед., share = 0.2, MDE = 5.5 %\n",
      "Продолжительность эксперимента 4 нед., share = 0.3, MDE = 4.5 %\n",
      "Продолжительность эксперимента 4 нед., share = 0.4, MDE = 4.6 %\n",
      "Продолжительность эксперимента 4 нед., share = 0.5, MDE = 4.0 %\n",
      "Продолжительность эксперимента 4 нед., share = 0.6, MDE = 3.6 %\n"
     ]
    }
   ],
   "source": [
    "start = datetime.datetime(2020, 12, 1, 0, 0)\n",
    "\n",
    "for days in range(1, 5):\n",
    "    for sh in np.arange(0.1, 0.7, 0.1):\n",
    "        data = choose_date(df, start, days*7, sh)\n",
    "        print(f'Продолжительность эксперимента {days} нед., share = {toFixed(sh, 1)}, MDE = {toFixed(100*get_mde(data.transactions), 1)} %')"
   ]
  },
  {
   "cell_type": "markdown",
   "metadata": {},
   "source": [
    "Видим, что есть несколько вариантов с MDE < 5%. Например, оптимальной является продолжительность эксперимента в 4 недели с share rate = 40%. Следовательно, данную гипотезу можно проверять на имеющихся данных с таким дизайном."
   ]
  },
  {
   "cell_type": "markdown",
   "metadata": {},
   "source": [
    "- Проверим гипотезу 2. \n",
    "\n",
    "В данной гипотезе целевая метрика - средний чек пользователя."
   ]
  },
  {
   "cell_type": "code",
   "execution_count": 201,
   "metadata": {},
   "outputs": [
    {
     "name": "stdout",
     "output_type": "stream",
     "text": [
      "Продолжительность эксперимента 1 нед., share = 0.1, MDE = 10.4 %\n",
      "Продолжительность эксперимента 1 нед., share = 0.2, MDE = 8.9 %\n",
      "Продолжительность эксперимента 1 нед., share = 0.3, MDE = 7.6 %\n",
      "Продолжительность эксперимента 1 нед., share = 0.4, MDE = 6.5 %\n",
      "Продолжительность эксперимента 1 нед., share = 0.5, MDE = 5.7 %\n",
      "Продолжительность эксперимента 1 нед., share = 0.6, MDE = 5.2 %\n",
      "Продолжительность эксперимента 2 нед., share = 0.1, MDE = 9.8 %\n",
      "Продолжительность эксперимента 2 нед., share = 0.2, MDE = 8.4 %\n",
      "Продолжительность эксперимента 2 нед., share = 0.3, MDE = 7.1 %\n",
      "Продолжительность эксперимента 2 нед., share = 0.4, MDE = 6.3 %\n",
      "Продолжительность эксперимента 2 нед., share = 0.5, MDE = 5.6 %\n",
      "Продолжительность эксперимента 2 нед., share = 0.6, MDE = 5.1 %\n",
      "Продолжительность эксперимента 3 нед., share = 0.1, MDE = 9.5 %\n",
      "Продолжительность эксперимента 3 нед., share = 0.2, MDE = 8.3 %\n",
      "Продолжительность эксперимента 3 нед., share = 0.3, MDE = 7.0 %\n",
      "Продолжительность эксперимента 3 нед., share = 0.4, MDE = 6.3 %\n",
      "Продолжительность эксперимента 3 нед., share = 0.5, MDE = 5.5 %\n",
      "Продолжительность эксперимента 3 нед., share = 0.6, MDE = 5.0 %\n",
      "Продолжительность эксперимента 4 нед., share = 0.1, MDE = 9.5 %\n",
      "Продолжительность эксперимента 4 нед., share = 0.2, MDE = 8.3 %\n",
      "Продолжительность эксперимента 4 нед., share = 0.3, MDE = 6.9 %\n",
      "Продолжительность эксперимента 4 нед., share = 0.4, MDE = 6.1 %\n",
      "Продолжительность эксперимента 4 нед., share = 0.5, MDE = 5.4 %\n",
      "Продолжительность эксперимента 4 нед., share = 0.6, MDE = 4.9 %\n"
     ]
    }
   ],
   "source": [
    "start = datetime.datetime(2020, 12, 1, 0, 0)\n",
    "\n",
    "for days in range(1, 5):\n",
    "    for sh in np.arange(0.1, 0.7, 0.1):\n",
    "        data = choose_date(df, start, days*7, sh)\n",
    "        print(f'Продолжительность эксперимента {days} нед., share = {toFixed(sh, 1)}, MDE = {toFixed(100*get_mde(data.amount), 1)} %')"
   ]
  },
  {
   "cell_type": "markdown",
   "metadata": {},
   "source": [
    "Видим, что есть несколько вариантов с MDE < 10%. Например, оптимальной является продолжительность эксперимента в 3 недели с share rate = 60%. Следовательно, данную гипотезу можно проверять на имеющихся данных с таким дизайном."
   ]
  },
  {
   "cell_type": "markdown",
   "metadata": {},
   "source": [
    "**Заметим, что выбранные планы экспериментов являются оптимальными.** Продолжительность эксперимента была выбрана такой, чтобы MDE стал меньше или равен ожидаемого изменения целевой метрики. Следовательно, это наименьшая возможная продолжительность эксперимента."
   ]
  },
  {
   "cell_type": "markdown",
   "metadata": {},
   "source": [
    "### 4. Оптимизация плана (2 балла):\n",
    "\n",
    "Для оптимизации эксперимента могут выбраны следующие пути:\n",
    "\n",
    "- Путем анализа можно проверить, влияют ли целевые метрики для проверки первой и второй гипотез друг на друга. Если нет, то данные эксперименты можно проводить параллельно на разных пользователях. \n",
    "\n",
    "- Если заданное число пользователей не посещают ресурс в запланированном объеме, то эксперимент должен быть продлен. В противном случае экспримент может быть досрочно окончен. \n",
    "\n",
    "- Учет сезонности позволит каждую итерацию эксперимента учитывать различных приходящих пользователей."
   ]
  },
  {
   "cell_type": "code",
   "execution_count": null,
   "metadata": {},
   "outputs": [],
   "source": []
  }
 ],
 "metadata": {
  "kernelspec": {
   "display_name": "Python 3",
   "language": "python",
   "name": "python3"
  },
  "language_info": {
   "codemirror_mode": {
    "name": "ipython",
    "version": 3
   },
   "file_extension": ".py",
   "mimetype": "text/x-python",
   "name": "python",
   "nbconvert_exporter": "python",
   "pygments_lexer": "ipython3",
   "version": "3.8.8"
  }
 },
 "nbformat": 4,
 "nbformat_minor": 4
}
