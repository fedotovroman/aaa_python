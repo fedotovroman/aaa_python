{
 "cells": [
  {
   "cell_type": "code",
   "execution_count": 1,
   "metadata": {},
   "outputs": [],
   "source": [
    "import pandas as pd\n",
    "import matplotlib.pyplot as plt\n",
    "import numpy as np\n",
    "import seaborn as sns; sns.set()\n",
    "import datetime\n",
    "import random\n",
    "from statsmodels.stats.power import tt_ind_solve_power\n",
    "\n",
    "\n",
    "def date_converter(x):\n",
    "    return datetime.datetime.strptime(x,'%Y-%m-%d')"
   ]
  },
  {
   "cell_type": "markdown",
   "metadata": {},
   "source": [
    "### Задание 3\n",
    "**Срок сдачи: 07 апреля 18:00**\n",
    "\n",
    "В этом задание вы будете работать с выручкой - метрикой с достаточно высокой дисперсией и соответсвенно низкой чувствительностью к изменениям.\n",
    "\n",
    "Вам предстоит разработать подход по повышению чувствительности этой метрики.\n",
    "От успеха данной инициативы зависит то, как быстро мы сможем проверять продуктовые гипотезы."
   ]
  },
  {
   "cell_type": "markdown",
   "metadata": {},
   "source": [
    "#### Для планирования эксперимента изучите данные и метрики 2 балла:\n",
    "\n",
    "- Загрузите файл и изучите данные;\n",
    "- Изучите основные статистики метрики: среднее, стандартное отклонение;\n",
    "- Изучите то, как эти статистики изменяются внутри срезов: user_segment, region, category\n",
    "\n",
    "#### Предскажите минимально детектируемый эффект (MDE) 2 балла:\n",
    "\n",
    "- Для размеров тестовых групп 10,25,50% и длительностей 30, 60, 90 дней предскажите минимально детектируемый эффект;\n",
    "\n",
    "\n",
    "#### CUPED 6 баллов\n",
    "Разработайте подход по снижению дисперсии на основе методики CUPED:\n",
    "\n",
    "- Рассчитайте CUPED метрику на основе данных за периода в 30 дней перед предполагаемым периодом сбора основной выборки и опишите как изменился MDE для выборок 50/50%, собранных за 30 дней (2 бала). \n",
    "- Проверьте насколько данный подход подвержен сезональности. Как меняется MDE, если применять данный подход в разные периоды (2 бала). \n",
    "- Оптимизируйте подход варьируя количество дней до теста, которые вы будете для расчёта CUPED метрики. Какое максимальное снижение MDE вы смогли достичь (2 бала).\n",
    "\n",
    "\n",
    "\n",
    "#### * Стратификация 4 балла (задание для получения дополнительных баллов)\n",
    "Разработайте подход по снижению дисперсии на основе методики стратификации выборок:\n",
    "\n",
    "- Стратифицируйте выборки внутри срезов user_segment, region, category\n",
    "- Рассчитайте стратифицированные среднее,стандартное отклонение для этих выборок и MDE для теста 50/50% длительностью 30 дней.\n",
    "- В каких срезах достигается наибольшее снижение MDE?\n",
    "\n"
   ]
  },
  {
   "cell_type": "markdown",
   "metadata": {},
   "source": [
    "#### Описание данныx\n",
    "\n",
    "event_date - дата \n",
    "\n",
    "user_id - идентификатор пользователя\n",
    "\n",
    "user_segment - сегмент пользователей\n",
    "\n",
    "region - регион\n",
    "\n",
    "category - категория авито\n",
    "\n",
    "revenue_amount - сумма покупок\n"
   ]
  },
  {
   "cell_type": "markdown",
   "metadata": {},
   "source": [
    "## 1. Для планирования эксперимента изучим данные и метрики "
   ]
  },
  {
   "cell_type": "code",
   "execution_count": 2,
   "metadata": {},
   "outputs": [],
   "source": [
    "df = pd.read_csv('user_amount_var_reduction.csv')\n",
    "df['event_date']=df.event_date.apply(date_converter)"
   ]
  },
  {
   "cell_type": "code",
   "execution_count": 3,
   "metadata": {},
   "outputs": [
    {
     "data": {
      "text/html": [
       "<div>\n",
       "<style scoped>\n",
       "    .dataframe tbody tr th:only-of-type {\n",
       "        vertical-align: middle;\n",
       "    }\n",
       "\n",
       "    .dataframe tbody tr th {\n",
       "        vertical-align: top;\n",
       "    }\n",
       "\n",
       "    .dataframe thead th {\n",
       "        text-align: right;\n",
       "    }\n",
       "</style>\n",
       "<table border=\"1\" class=\"dataframe\">\n",
       "  <thead>\n",
       "    <tr style=\"text-align: right;\">\n",
       "      <th></th>\n",
       "      <th>event_date</th>\n",
       "      <th>user_id</th>\n",
       "      <th>user_segment</th>\n",
       "      <th>category</th>\n",
       "      <th>region</th>\n",
       "      <th>revenue_amount</th>\n",
       "    </tr>\n",
       "  </thead>\n",
       "  <tbody>\n",
       "    <tr>\n",
       "      <th>0</th>\n",
       "      <td>2019-06-18</td>\n",
       "      <td>4129257975403696</td>\n",
       "      <td>4626944681007198896</td>\n",
       "      <td>7204754148424990691</td>\n",
       "      <td>2201388710798473628</td>\n",
       "      <td>139</td>\n",
       "    </tr>\n",
       "    <tr>\n",
       "      <th>1</th>\n",
       "      <td>2019-06-18</td>\n",
       "      <td>7225254357470025</td>\n",
       "      <td>4626944681007198896</td>\n",
       "      <td>57514010642945023</td>\n",
       "      <td>3048517866726460689</td>\n",
       "      <td>193</td>\n",
       "    </tr>\n",
       "    <tr>\n",
       "      <th>2</th>\n",
       "      <td>2019-06-18</td>\n",
       "      <td>8912846500600569</td>\n",
       "      <td>4626944681007198896</td>\n",
       "      <td>5983323600580891431</td>\n",
       "      <td>3048517866726460689</td>\n",
       "      <td>160</td>\n",
       "    </tr>\n",
       "    <tr>\n",
       "      <th>3</th>\n",
       "      <td>2019-06-18</td>\n",
       "      <td>20910801279823046</td>\n",
       "      <td>4626944681007198896</td>\n",
       "      <td>6847326422676498281</td>\n",
       "      <td>7762196236856042106</td>\n",
       "      <td>209</td>\n",
       "    </tr>\n",
       "    <tr>\n",
       "      <th>4</th>\n",
       "      <td>2019-06-18</td>\n",
       "      <td>34873300821657220</td>\n",
       "      <td>2376074197230840906</td>\n",
       "      <td>3187769798308634693</td>\n",
       "      <td>3855810523611026650</td>\n",
       "      <td>160</td>\n",
       "    </tr>\n",
       "    <tr>\n",
       "      <th>...</th>\n",
       "      <td>...</td>\n",
       "      <td>...</td>\n",
       "      <td>...</td>\n",
       "      <td>...</td>\n",
       "      <td>...</td>\n",
       "      <td>...</td>\n",
       "    </tr>\n",
       "    <tr>\n",
       "      <th>8625837</th>\n",
       "      <td>2019-12-08</td>\n",
       "      <td>9170823997728769058</td>\n",
       "      <td>2376074197230840906</td>\n",
       "      <td>4658595883120885993</td>\n",
       "      <td>3855810523611026650</td>\n",
       "      <td>133</td>\n",
       "    </tr>\n",
       "    <tr>\n",
       "      <th>8625838</th>\n",
       "      <td>2019-12-08</td>\n",
       "      <td>9178869387857307556</td>\n",
       "      <td>4626944681007198896</td>\n",
       "      <td>1472231361867825698</td>\n",
       "      <td>3048517866726460689</td>\n",
       "      <td>63</td>\n",
       "    </tr>\n",
       "    <tr>\n",
       "      <th>8625839</th>\n",
       "      <td>2019-12-08</td>\n",
       "      <td>9186690404771258365</td>\n",
       "      <td>2376074197230840906</td>\n",
       "      <td>4546178272531746227</td>\n",
       "      <td>8867014108346120905</td>\n",
       "      <td>168</td>\n",
       "    </tr>\n",
       "    <tr>\n",
       "      <th>8625840</th>\n",
       "      <td>2019-12-08</td>\n",
       "      <td>9195678548159495844</td>\n",
       "      <td>2376074197230840906</td>\n",
       "      <td>5983323600580891431</td>\n",
       "      <td>1187552825302355021</td>\n",
       "      <td>118</td>\n",
       "    </tr>\n",
       "    <tr>\n",
       "      <th>8625841</th>\n",
       "      <td>2019-12-08</td>\n",
       "      <td>9203791365722213789</td>\n",
       "      <td>4626944681007198896</td>\n",
       "      <td>6864443610550051939</td>\n",
       "      <td>3048517866726460689</td>\n",
       "      <td>39</td>\n",
       "    </tr>\n",
       "  </tbody>\n",
       "</table>\n",
       "<p>8625842 rows × 6 columns</p>\n",
       "</div>"
      ],
      "text/plain": [
       "        event_date              user_id         user_segment  \\\n",
       "0       2019-06-18     4129257975403696  4626944681007198896   \n",
       "1       2019-06-18     7225254357470025  4626944681007198896   \n",
       "2       2019-06-18     8912846500600569  4626944681007198896   \n",
       "3       2019-06-18    20910801279823046  4626944681007198896   \n",
       "4       2019-06-18    34873300821657220  2376074197230840906   \n",
       "...            ...                  ...                  ...   \n",
       "8625837 2019-12-08  9170823997728769058  2376074197230840906   \n",
       "8625838 2019-12-08  9178869387857307556  4626944681007198896   \n",
       "8625839 2019-12-08  9186690404771258365  2376074197230840906   \n",
       "8625840 2019-12-08  9195678548159495844  2376074197230840906   \n",
       "8625841 2019-12-08  9203791365722213789  4626944681007198896   \n",
       "\n",
       "                    category               region  revenue_amount  \n",
       "0        7204754148424990691  2201388710798473628             139  \n",
       "1          57514010642945023  3048517866726460689             193  \n",
       "2        5983323600580891431  3048517866726460689             160  \n",
       "3        6847326422676498281  7762196236856042106             209  \n",
       "4        3187769798308634693  3855810523611026650             160  \n",
       "...                      ...                  ...             ...  \n",
       "8625837  4658595883120885993  3855810523611026650             133  \n",
       "8625838  1472231361867825698  3048517866726460689              63  \n",
       "8625839  4546178272531746227  8867014108346120905             168  \n",
       "8625840  5983323600580891431  1187552825302355021             118  \n",
       "8625841  6864443610550051939  3048517866726460689              39  \n",
       "\n",
       "[8625842 rows x 6 columns]"
      ]
     },
     "execution_count": 3,
     "metadata": {},
     "output_type": "execute_result"
    }
   ],
   "source": [
    "df"
   ]
  },
  {
   "cell_type": "code",
   "execution_count": 45,
   "metadata": {},
   "outputs": [
    {
     "data": {
      "text/plain": [
       "Timestamp('2019-06-18 00:00:00')"
      ]
     },
     "execution_count": 45,
     "metadata": {},
     "output_type": "execute_result"
    }
   ],
   "source": [
    "df['event_date'].min()"
   ]
  },
  {
   "cell_type": "code",
   "execution_count": 40,
   "metadata": {},
   "outputs": [
    {
     "data": {
      "text/plain": [
       "Timestamp('2019-12-09 00:00:00')"
      ]
     },
     "execution_count": 40,
     "metadata": {},
     "output_type": "execute_result"
    }
   ],
   "source": [
    "df['event_date'].max()"
   ]
  },
  {
   "cell_type": "markdown",
   "metadata": {},
   "source": [
    "Эти данные приведены за период c **18.06.2019** по **9.12.2019**.\n",
    "\n",
    "Посмотрим, сколько всего уникальных пользователей имеется в датасете:"
   ]
  },
  {
   "cell_type": "code",
   "execution_count": 48,
   "metadata": {},
   "outputs": [
    {
     "data": {
      "text/plain": [
       "(1932049,)"
      ]
     },
     "execution_count": 48,
     "metadata": {},
     "output_type": "execute_result"
    }
   ],
   "source": [
    "df['user_id'].unique().shape"
   ]
  },
  {
   "cell_type": "code",
   "execution_count": 49,
   "metadata": {},
   "outputs": [
    {
     "data": {
      "text/plain": [
       "(8625842,)"
      ]
     },
     "execution_count": 49,
     "metadata": {},
     "output_type": "execute_result"
    }
   ],
   "source": [
    "df['user_id'].shape"
   ]
  },
  {
   "cell_type": "markdown",
   "metadata": {},
   "source": [
    "В среднем, на одного пользователя приходится 4.5 транзакции."
   ]
  },
  {
   "cell_type": "markdown",
   "metadata": {},
   "source": [
    "Рассмотрим основные статистики метрики"
   ]
  },
  {
   "cell_type": "code",
   "execution_count": 5,
   "metadata": {},
   "outputs": [
    {
     "data": {
      "text/plain": [
       "count    8.625842e+06\n",
       "mean     4.009047e+02\n",
       "std      9.602217e+02\n",
       "min      1.000000e+00\n",
       "25%      8.800000e+01\n",
       "50%      1.670000e+02\n",
       "75%      4.050000e+02\n",
       "max      2.881230e+05\n",
       "Name: revenue_amount, dtype: float64"
      ]
     },
     "execution_count": 5,
     "metadata": {},
     "output_type": "execute_result"
    }
   ],
   "source": [
    "df['revenue_amount'].describe()"
   ]
  },
  {
   "cell_type": "markdown",
   "metadata": {},
   "source": [
    "Из этого саммари можно сделать предварительные выводы о следующем:\n",
    "\n",
    "- У данных действительно большое $std = 960$;\n",
    "- Выборка обладает \"тяжелым хвостом\", так как перцентиль 75% равен $405$, а максимум $288123$;\n",
    "- Оценка среднего будет обладать большим смещением, так как $\\overline{X} = 400, min = 1, max = 288123$. "
   ]
  },
  {
   "cell_type": "code",
   "execution_count": 34,
   "metadata": {},
   "outputs": [
    {
     "data": {
      "image/png": "[encoded data removed]",
      "text/plain": [
       "<Figure size 576x360 with 1 Axes>"
      ]
     },
     "metadata": {},
     "output_type": "display_data"
    }
   ],
   "source": [
    "plt.figure(figsize=(8,5))\n",
    "plt.hist(df['revenue_amount'], bins = 30, label = 'revenue')\n",
    "plt.title('Revenue')\n",
    "plt.legend()\n",
    "plt.show()"
   ]
  },
  {
   "cell_type": "code",
   "execution_count": 35,
   "metadata": {},
   "outputs": [
    {
     "data": {
      "image/png": "[encoded data removed]",
      "text/plain": [
       "<Figure size 576x360 with 1 Axes>"
      ]
     },
     "metadata": {},
     "output_type": "display_data"
    }
   ],
   "source": [
    "plt.figure(figsize=(8,5))\n",
    "plt.hist(df[df['revenue_amount'] <= df['revenue_amount'].quantile(0.95)]['revenue_amount'], label = 'revenue', bins = 40)\n",
    "plt.title('Revenue, меньшее чем 95% перцентиль')\n",
    "plt.legend()\n",
    "plt.show()"
   ]
  },
  {
   "cell_type": "markdown",
   "metadata": {},
   "source": [
    "Видим, что **revenue** имеет типичное для этой метрики экспоненциальное распределение.\n",
    "\n",
    "Изучим, как данные изменяются внутри различных групп.\n",
    "\n",
    "- В разрезе **user_segment**:"
   ]
  },
  {
   "cell_type": "code",
   "execution_count": 63,
   "metadata": {},
   "outputs": [
    {
     "data": {
      "text/html": [
       "<div>\n",
       "<style scoped>\n",
       "    .dataframe tbody tr th:only-of-type {\n",
       "        vertical-align: middle;\n",
       "    }\n",
       "\n",
       "    .dataframe tbody tr th {\n",
       "        vertical-align: top;\n",
       "    }\n",
       "\n",
       "    .dataframe thead tr th {\n",
       "        text-align: left;\n",
       "    }\n",
       "\n",
       "    .dataframe thead tr:last-of-type th {\n",
       "        text-align: right;\n",
       "    }\n",
       "</style>\n",
       "<table border=\"1\" class=\"dataframe\">\n",
       "  <thead>\n",
       "    <tr>\n",
       "      <th></th>\n",
       "      <th colspan=\"8\" halign=\"left\">revenue_amount</th>\n",
       "    </tr>\n",
       "    <tr>\n",
       "      <th></th>\n",
       "      <th>count</th>\n",
       "      <th>mean</th>\n",
       "      <th>std</th>\n",
       "      <th>min</th>\n",
       "      <th>25%</th>\n",
       "      <th>50%</th>\n",
       "      <th>75%</th>\n",
       "      <th>max</th>\n",
       "    </tr>\n",
       "    <tr>\n",
       "      <th>user_segment</th>\n",
       "      <th></th>\n",
       "      <th></th>\n",
       "      <th></th>\n",
       "      <th></th>\n",
       "      <th></th>\n",
       "      <th></th>\n",
       "      <th></th>\n",
       "      <th></th>\n",
       "    </tr>\n",
       "  </thead>\n",
       "  <tbody>\n",
       "    <tr>\n",
       "      <th>853431062533847667</th>\n",
       "      <td>1001507.0</td>\n",
       "      <td>1094.330305</td>\n",
       "      <td>2392.330098</td>\n",
       "      <td>1.0</td>\n",
       "      <td>226.0</td>\n",
       "      <td>489.0</td>\n",
       "      <td>1113.0</td>\n",
       "      <td>288123.0</td>\n",
       "    </tr>\n",
       "    <tr>\n",
       "      <th>2376074197230840906</th>\n",
       "      <td>4013951.0</td>\n",
       "      <td>401.615956</td>\n",
       "      <td>571.446013</td>\n",
       "      <td>4.0</td>\n",
       "      <td>109.0</td>\n",
       "      <td>209.0</td>\n",
       "      <td>475.0</td>\n",
       "      <td>52540.0</td>\n",
       "    </tr>\n",
       "    <tr>\n",
       "      <th>4626944681007198896</th>\n",
       "      <td>3610384.0</td>\n",
       "      <td>207.760172</td>\n",
       "      <td>285.545686</td>\n",
       "      <td>4.0</td>\n",
       "      <td>63.0</td>\n",
       "      <td>112.0</td>\n",
       "      <td>230.0</td>\n",
       "      <td>19950.0</td>\n",
       "    </tr>\n",
       "  </tbody>\n",
       "</table>\n",
       "</div>"
      ],
      "text/plain": [
       "                    revenue_amount                                        \\\n",
       "                             count         mean          std  min    25%   \n",
       "user_segment                                                               \n",
       "853431062533847667       1001507.0  1094.330305  2392.330098  1.0  226.0   \n",
       "2376074197230840906      4013951.0   401.615956   571.446013  4.0  109.0   \n",
       "4626944681007198896      3610384.0   207.760172   285.545686  4.0   63.0   \n",
       "\n",
       "                                              \n",
       "                       50%     75%       max  \n",
       "user_segment                                  \n",
       "853431062533847667   489.0  1113.0  288123.0  \n",
       "2376074197230840906  209.0   475.0   52540.0  \n",
       "4626944681007198896  112.0   230.0   19950.0  "
      ]
     },
     "execution_count": 63,
     "metadata": {},
     "output_type": "execute_result"
    }
   ],
   "source": [
    "df[['user_segment', 'revenue_amount']].groupby(by = 'user_segment').describe()"
   ]
  },
  {
   "cell_type": "code",
   "execution_count": 27,
   "metadata": {},
   "outputs": [
    {
     "data": {
      "image/png": "[encoded data removed]",
      "text/plain": [
       "<Figure size 576x360 with 1 Axes>"
      ]
     },
     "metadata": {},
     "output_type": "display_data"
    },
    {
     "data": {
      "image/png": "[encoded data removed]",
      "text/plain": [
       "<Figure size 576x360 with 1 Axes>"
      ]
     },
     "metadata": {},
     "output_type": "display_data"
    },
    {
     "data": {
      "image/png": "[encoded data removed]",
      "text/plain": [
       "<Figure size 576x360 with 1 Axes>"
      ]
     },
     "metadata": {},
     "output_type": "display_data"
    }
   ],
   "source": [
    "segments = df['user_segment'].unique()\n",
    "\n",
    "for seg in segments:\n",
    "    plt.figure(figsize=(8,5))\n",
    "    data = df[(df['user_segment'] == seg) & (df['revenue_amount'] <= df['revenue_amount'].quantile(0.95))]['revenue_amount']\n",
    "    plt.title(f'Revenue сегмента №{seg}, обрезанный на 95% перцентиль')\n",
    "    plt.hist(data)\n",
    "    plt.show()"
   ]
  },
  {
   "cell_type": "markdown",
   "metadata": {},
   "source": [
    "- В разрезе **category**:"
   ]
  },
  {
   "cell_type": "code",
   "execution_count": 66,
   "metadata": {},
   "outputs": [
    {
     "data": {
      "text/html": [
       "<div>\n",
       "<style scoped>\n",
       "    .dataframe tbody tr th:only-of-type {\n",
       "        vertical-align: middle;\n",
       "    }\n",
       "\n",
       "    .dataframe tbody tr th {\n",
       "        vertical-align: top;\n",
       "    }\n",
       "\n",
       "    .dataframe thead tr th {\n",
       "        text-align: left;\n",
       "    }\n",
       "\n",
       "    .dataframe thead tr:last-of-type th {\n",
       "        text-align: right;\n",
       "    }\n",
       "</style>\n",
       "<table border=\"1\" class=\"dataframe\">\n",
       "  <thead>\n",
       "    <tr>\n",
       "      <th></th>\n",
       "      <th colspan=\"8\" halign=\"left\">revenue_amount</th>\n",
       "    </tr>\n",
       "    <tr>\n",
       "      <th></th>\n",
       "      <th>count</th>\n",
       "      <th>mean</th>\n",
       "      <th>std</th>\n",
       "      <th>min</th>\n",
       "      <th>25%</th>\n",
       "      <th>50%</th>\n",
       "      <th>75%</th>\n",
       "      <th>max</th>\n",
       "    </tr>\n",
       "    <tr>\n",
       "      <th>category</th>\n",
       "      <th></th>\n",
       "      <th></th>\n",
       "      <th></th>\n",
       "      <th></th>\n",
       "      <th></th>\n",
       "      <th></th>\n",
       "      <th></th>\n",
       "      <th></th>\n",
       "    </tr>\n",
       "  </thead>\n",
       "  <tbody>\n",
       "    <tr>\n",
       "      <th>57514010642945023</th>\n",
       "      <td>689886.0</td>\n",
       "      <td>347.826167</td>\n",
       "      <td>605.864274</td>\n",
       "      <td>20.0</td>\n",
       "      <td>109.0</td>\n",
       "      <td>167.0</td>\n",
       "      <td>369.0</td>\n",
       "      <td>42271.0</td>\n",
       "    </tr>\n",
       "    <tr>\n",
       "      <th>91460430793700892</th>\n",
       "      <td>280512.0</td>\n",
       "      <td>441.861699</td>\n",
       "      <td>651.938097</td>\n",
       "      <td>11.0</td>\n",
       "      <td>112.0</td>\n",
       "      <td>231.0</td>\n",
       "      <td>518.0</td>\n",
       "      <td>41867.0</td>\n",
       "    </tr>\n",
       "    <tr>\n",
       "      <th>174490086998335078</th>\n",
       "      <td>379803.0</td>\n",
       "      <td>325.149759</td>\n",
       "      <td>764.813512</td>\n",
       "      <td>1.0</td>\n",
       "      <td>62.0</td>\n",
       "      <td>132.0</td>\n",
       "      <td>291.0</td>\n",
       "      <td>51403.0</td>\n",
       "    </tr>\n",
       "    <tr>\n",
       "      <th>264558924403680107</th>\n",
       "      <td>122114.0</td>\n",
       "      <td>509.373364</td>\n",
       "      <td>747.222091</td>\n",
       "      <td>27.0</td>\n",
       "      <td>132.0</td>\n",
       "      <td>279.0</td>\n",
       "      <td>622.0</td>\n",
       "      <td>40908.0</td>\n",
       "    </tr>\n",
       "    <tr>\n",
       "      <th>282115902545472456</th>\n",
       "      <td>41960.0</td>\n",
       "      <td>260.778575</td>\n",
       "      <td>354.734991</td>\n",
       "      <td>11.0</td>\n",
       "      <td>84.0</td>\n",
       "      <td>160.0</td>\n",
       "      <td>302.0</td>\n",
       "      <td>15630.0</td>\n",
       "    </tr>\n",
       "    <tr>\n",
       "      <th>320230973495659885</th>\n",
       "      <td>80051.0</td>\n",
       "      <td>286.013254</td>\n",
       "      <td>414.997017</td>\n",
       "      <td>6.0</td>\n",
       "      <td>70.0</td>\n",
       "      <td>140.0</td>\n",
       "      <td>329.0</td>\n",
       "      <td>19950.0</td>\n",
       "    </tr>\n",
       "    <tr>\n",
       "      <th>1472231361867825698</th>\n",
       "      <td>627129.0</td>\n",
       "      <td>258.353200</td>\n",
       "      <td>594.984151</td>\n",
       "      <td>4.0</td>\n",
       "      <td>56.0</td>\n",
       "      <td>112.0</td>\n",
       "      <td>231.0</td>\n",
       "      <td>30429.0</td>\n",
       "    </tr>\n",
       "    <tr>\n",
       "      <th>1560592244484430230</th>\n",
       "      <td>204558.0</td>\n",
       "      <td>313.285665</td>\n",
       "      <td>464.354426</td>\n",
       "      <td>13.0</td>\n",
       "      <td>111.0</td>\n",
       "      <td>167.0</td>\n",
       "      <td>370.0</td>\n",
       "      <td>29030.0</td>\n",
       "    </tr>\n",
       "    <tr>\n",
       "      <th>1793067034829450750</th>\n",
       "      <td>344271.0</td>\n",
       "      <td>497.431001</td>\n",
       "      <td>1073.795206</td>\n",
       "      <td>15.0</td>\n",
       "      <td>118.0</td>\n",
       "      <td>244.0</td>\n",
       "      <td>524.0</td>\n",
       "      <td>140792.0</td>\n",
       "    </tr>\n",
       "    <tr>\n",
       "      <th>2343719193625129042</th>\n",
       "      <td>73500.0</td>\n",
       "      <td>943.989905</td>\n",
       "      <td>2471.247604</td>\n",
       "      <td>17.0</td>\n",
       "      <td>160.0</td>\n",
       "      <td>391.0</td>\n",
       "      <td>922.0</td>\n",
       "      <td>164262.0</td>\n",
       "    </tr>\n",
       "    <tr>\n",
       "      <th>2923341857645916506</th>\n",
       "      <td>157820.0</td>\n",
       "      <td>806.675364</td>\n",
       "      <td>1613.975843</td>\n",
       "      <td>25.0</td>\n",
       "      <td>188.0</td>\n",
       "      <td>405.0</td>\n",
       "      <td>921.0</td>\n",
       "      <td>57673.0</td>\n",
       "    </tr>\n",
       "    <tr>\n",
       "      <th>2965866302161963961</th>\n",
       "      <td>81507.0</td>\n",
       "      <td>196.501761</td>\n",
       "      <td>350.682200</td>\n",
       "      <td>6.0</td>\n",
       "      <td>49.0</td>\n",
       "      <td>98.0</td>\n",
       "      <td>203.0</td>\n",
       "      <td>17500.0</td>\n",
       "    </tr>\n",
       "    <tr>\n",
       "      <th>3187769798308634693</th>\n",
       "      <td>767177.0</td>\n",
       "      <td>467.654020</td>\n",
       "      <td>790.312625</td>\n",
       "      <td>11.0</td>\n",
       "      <td>118.0</td>\n",
       "      <td>244.0</td>\n",
       "      <td>524.0</td>\n",
       "      <td>47314.0</td>\n",
       "    </tr>\n",
       "    <tr>\n",
       "      <th>3358911609809004109</th>\n",
       "      <td>19222.0</td>\n",
       "      <td>403.792946</td>\n",
       "      <td>791.225418</td>\n",
       "      <td>14.0</td>\n",
       "      <td>90.0</td>\n",
       "      <td>168.0</td>\n",
       "      <td>445.0</td>\n",
       "      <td>21740.0</td>\n",
       "    </tr>\n",
       "    <tr>\n",
       "      <th>3429514168013826643</th>\n",
       "      <td>229608.0</td>\n",
       "      <td>200.418644</td>\n",
       "      <td>281.092885</td>\n",
       "      <td>8.0</td>\n",
       "      <td>63.0</td>\n",
       "      <td>119.0</td>\n",
       "      <td>224.0</td>\n",
       "      <td>10913.0</td>\n",
       "    </tr>\n",
       "    <tr>\n",
       "      <th>3619272498251215842</th>\n",
       "      <td>42503.0</td>\n",
       "      <td>142.088606</td>\n",
       "      <td>172.984799</td>\n",
       "      <td>6.0</td>\n",
       "      <td>49.0</td>\n",
       "      <td>98.0</td>\n",
       "      <td>161.0</td>\n",
       "      <td>5494.0</td>\n",
       "    </tr>\n",
       "    <tr>\n",
       "      <th>4394253463123676325</th>\n",
       "      <td>580595.0</td>\n",
       "      <td>136.595029</td>\n",
       "      <td>300.843418</td>\n",
       "      <td>6.0</td>\n",
       "      <td>39.0</td>\n",
       "      <td>70.0</td>\n",
       "      <td>140.0</td>\n",
       "      <td>46074.0</td>\n",
       "    </tr>\n",
       "    <tr>\n",
       "      <th>4409084324312788296</th>\n",
       "      <td>265629.0</td>\n",
       "      <td>379.733922</td>\n",
       "      <td>889.850240</td>\n",
       "      <td>7.0</td>\n",
       "      <td>70.0</td>\n",
       "      <td>140.0</td>\n",
       "      <td>329.0</td>\n",
       "      <td>36470.0</td>\n",
       "    </tr>\n",
       "    <tr>\n",
       "      <th>4546178272531746227</th>\n",
       "      <td>103201.0</td>\n",
       "      <td>510.431362</td>\n",
       "      <td>717.762308</td>\n",
       "      <td>8.0</td>\n",
       "      <td>119.0</td>\n",
       "      <td>245.0</td>\n",
       "      <td>651.0</td>\n",
       "      <td>18907.0</td>\n",
       "    </tr>\n",
       "    <tr>\n",
       "      <th>4658595883120885993</th>\n",
       "      <td>65457.0</td>\n",
       "      <td>215.218327</td>\n",
       "      <td>279.414560</td>\n",
       "      <td>8.0</td>\n",
       "      <td>63.0</td>\n",
       "      <td>119.0</td>\n",
       "      <td>245.0</td>\n",
       "      <td>8904.0</td>\n",
       "    </tr>\n",
       "    <tr>\n",
       "      <th>5284347926600386297</th>\n",
       "      <td>50676.0</td>\n",
       "      <td>455.255782</td>\n",
       "      <td>534.420842</td>\n",
       "      <td>20.0</td>\n",
       "      <td>140.0</td>\n",
       "      <td>258.0</td>\n",
       "      <td>574.0</td>\n",
       "      <td>8848.0</td>\n",
       "    </tr>\n",
       "    <tr>\n",
       "      <th>5387097547938806535</th>\n",
       "      <td>28114.0</td>\n",
       "      <td>149.053532</td>\n",
       "      <td>196.446707</td>\n",
       "      <td>8.0</td>\n",
       "      <td>48.0</td>\n",
       "      <td>83.0</td>\n",
       "      <td>160.0</td>\n",
       "      <td>3001.0</td>\n",
       "    </tr>\n",
       "    <tr>\n",
       "      <th>5736208844128861898</th>\n",
       "      <td>42636.0</td>\n",
       "      <td>321.823084</td>\n",
       "      <td>625.686617</td>\n",
       "      <td>14.0</td>\n",
       "      <td>69.0</td>\n",
       "      <td>160.0</td>\n",
       "      <td>321.0</td>\n",
       "      <td>20083.0</td>\n",
       "    </tr>\n",
       "    <tr>\n",
       "      <th>5858189596811644833</th>\n",
       "      <td>3837.0</td>\n",
       "      <td>527.746677</td>\n",
       "      <td>699.154653</td>\n",
       "      <td>20.0</td>\n",
       "      <td>134.0</td>\n",
       "      <td>272.0</td>\n",
       "      <td>622.0</td>\n",
       "      <td>11162.0</td>\n",
       "    </tr>\n",
       "    <tr>\n",
       "      <th>5983323600580891431</th>\n",
       "      <td>480199.0</td>\n",
       "      <td>433.565037</td>\n",
       "      <td>535.078480</td>\n",
       "      <td>11.0</td>\n",
       "      <td>118.0</td>\n",
       "      <td>241.0</td>\n",
       "      <td>552.0</td>\n",
       "      <td>25226.0</td>\n",
       "    </tr>\n",
       "    <tr>\n",
       "      <th>6549025562984299367</th>\n",
       "      <td>725571.0</td>\n",
       "      <td>410.800302</td>\n",
       "      <td>1899.114650</td>\n",
       "      <td>20.0</td>\n",
       "      <td>69.0</td>\n",
       "      <td>139.0</td>\n",
       "      <td>279.0</td>\n",
       "      <td>288123.0</td>\n",
       "    </tr>\n",
       "    <tr>\n",
       "      <th>6742557862815872936</th>\n",
       "      <td>267764.0</td>\n",
       "      <td>503.182713</td>\n",
       "      <td>778.842570</td>\n",
       "      <td>14.0</td>\n",
       "      <td>132.0</td>\n",
       "      <td>258.0</td>\n",
       "      <td>587.0</td>\n",
       "      <td>45044.0</td>\n",
       "    </tr>\n",
       "    <tr>\n",
       "      <th>6847326422676498281</th>\n",
       "      <td>105945.0</td>\n",
       "      <td>167.567493</td>\n",
       "      <td>311.475321</td>\n",
       "      <td>4.0</td>\n",
       "      <td>49.0</td>\n",
       "      <td>98.0</td>\n",
       "      <td>196.0</td>\n",
       "      <td>17640.0</td>\n",
       "    </tr>\n",
       "    <tr>\n",
       "      <th>6864443610550051939</th>\n",
       "      <td>126825.0</td>\n",
       "      <td>233.014721</td>\n",
       "      <td>471.848055</td>\n",
       "      <td>6.0</td>\n",
       "      <td>56.0</td>\n",
       "      <td>104.0</td>\n",
       "      <td>231.0</td>\n",
       "      <td>37856.0</td>\n",
       "    </tr>\n",
       "    <tr>\n",
       "      <th>7164285449278522823</th>\n",
       "      <td>12835.0</td>\n",
       "      <td>1955.979431</td>\n",
       "      <td>3164.815179</td>\n",
       "      <td>21.0</td>\n",
       "      <td>447.0</td>\n",
       "      <td>1049.0</td>\n",
       "      <td>2281.0</td>\n",
       "      <td>75425.0</td>\n",
       "    </tr>\n",
       "    <tr>\n",
       "      <th>7204754148424990691</th>\n",
       "      <td>736535.0</td>\n",
       "      <td>352.174948</td>\n",
       "      <td>511.821260</td>\n",
       "      <td>4.0</td>\n",
       "      <td>90.0</td>\n",
       "      <td>188.0</td>\n",
       "      <td>405.0</td>\n",
       "      <td>36824.0</td>\n",
       "    </tr>\n",
       "    <tr>\n",
       "      <th>7247164925237372155</th>\n",
       "      <td>189671.0</td>\n",
       "      <td>155.169288</td>\n",
       "      <td>285.421869</td>\n",
       "      <td>6.0</td>\n",
       "      <td>49.0</td>\n",
       "      <td>84.0</td>\n",
       "      <td>161.0</td>\n",
       "      <td>14014.0</td>\n",
       "    </tr>\n",
       "    <tr>\n",
       "      <th>7948270325129383019</th>\n",
       "      <td>698731.0</td>\n",
       "      <td>792.677807</td>\n",
       "      <td>1352.172272</td>\n",
       "      <td>11.0</td>\n",
       "      <td>209.0</td>\n",
       "      <td>419.0</td>\n",
       "      <td>906.0</td>\n",
       "      <td>110212.0</td>\n",
       "    </tr>\n",
       "  </tbody>\n",
       "</table>\n",
       "</div>"
      ],
      "text/plain": [
       "                    revenue_amount                                         \\\n",
       "                             count         mean          std   min    25%   \n",
       "category                                                                    \n",
       "57514010642945023         689886.0   347.826167   605.864274  20.0  109.0   \n",
       "91460430793700892         280512.0   441.861699   651.938097  11.0  112.0   \n",
       "174490086998335078        379803.0   325.149759   764.813512   1.0   62.0   \n",
       "264558924403680107        122114.0   509.373364   747.222091  27.0  132.0   \n",
       "282115902545472456         41960.0   260.778575   354.734991  11.0   84.0   \n",
       "320230973495659885         80051.0   286.013254   414.997017   6.0   70.0   \n",
       "1472231361867825698       627129.0   258.353200   594.984151   4.0   56.0   \n",
       "1560592244484430230       204558.0   313.285665   464.354426  13.0  111.0   \n",
       "1793067034829450750       344271.0   497.431001  1073.795206  15.0  118.0   \n",
       "2343719193625129042        73500.0   943.989905  2471.247604  17.0  160.0   \n",
       "2923341857645916506       157820.0   806.675364  1613.975843  25.0  188.0   \n",
       "2965866302161963961        81507.0   196.501761   350.682200   6.0   49.0   \n",
       "3187769798308634693       767177.0   467.654020   790.312625  11.0  118.0   \n",
       "3358911609809004109        19222.0   403.792946   791.225418  14.0   90.0   \n",
       "3429514168013826643       229608.0   200.418644   281.092885   8.0   63.0   \n",
       "3619272498251215842        42503.0   142.088606   172.984799   6.0   49.0   \n",
       "4394253463123676325       580595.0   136.595029   300.843418   6.0   39.0   \n",
       "4409084324312788296       265629.0   379.733922   889.850240   7.0   70.0   \n",
       "4546178272531746227       103201.0   510.431362   717.762308   8.0  119.0   \n",
       "4658595883120885993        65457.0   215.218327   279.414560   8.0   63.0   \n",
       "5284347926600386297        50676.0   455.255782   534.420842  20.0  140.0   \n",
       "5387097547938806535        28114.0   149.053532   196.446707   8.0   48.0   \n",
       "5736208844128861898        42636.0   321.823084   625.686617  14.0   69.0   \n",
       "5858189596811644833         3837.0   527.746677   699.154653  20.0  134.0   \n",
       "5983323600580891431       480199.0   433.565037   535.078480  11.0  118.0   \n",
       "6549025562984299367       725571.0   410.800302  1899.114650  20.0   69.0   \n",
       "6742557862815872936       267764.0   503.182713   778.842570  14.0  132.0   \n",
       "6847326422676498281       105945.0   167.567493   311.475321   4.0   49.0   \n",
       "6864443610550051939       126825.0   233.014721   471.848055   6.0   56.0   \n",
       "7164285449278522823        12835.0  1955.979431  3164.815179  21.0  447.0   \n",
       "7204754148424990691       736535.0   352.174948   511.821260   4.0   90.0   \n",
       "7247164925237372155       189671.0   155.169288   285.421869   6.0   49.0   \n",
       "7948270325129383019       698731.0   792.677807  1352.172272  11.0  209.0   \n",
       "\n",
       "                                               \n",
       "                        50%     75%       max  \n",
       "category                                       \n",
       "57514010642945023     167.0   369.0   42271.0  \n",
       "91460430793700892     231.0   518.0   41867.0  \n",
       "174490086998335078    132.0   291.0   51403.0  \n",
       "264558924403680107    279.0   622.0   40908.0  \n",
       "282115902545472456    160.0   302.0   15630.0  \n",
       "320230973495659885    140.0   329.0   19950.0  \n",
       "1472231361867825698   112.0   231.0   30429.0  \n",
       "1560592244484430230   167.0   370.0   29030.0  \n",
       "1793067034829450750   244.0   524.0  140792.0  \n",
       "2343719193625129042   391.0   922.0  164262.0  \n",
       "2923341857645916506   405.0   921.0   57673.0  \n",
       "2965866302161963961    98.0   203.0   17500.0  \n",
       "3187769798308634693   244.0   524.0   47314.0  \n",
       "3358911609809004109   168.0   445.0   21740.0  \n",
       "3429514168013826643   119.0   224.0   10913.0  \n",
       "3619272498251215842    98.0   161.0    5494.0  \n",
       "4394253463123676325    70.0   140.0   46074.0  \n",
       "4409084324312788296   140.0   329.0   36470.0  \n",
       "4546178272531746227   245.0   651.0   18907.0  \n",
       "4658595883120885993   119.0   245.0    8904.0  \n",
       "5284347926600386297   258.0   574.0    8848.0  \n",
       "5387097547938806535    83.0   160.0    3001.0  \n",
       "5736208844128861898   160.0   321.0   20083.0  \n",
       "5858189596811644833   272.0   622.0   11162.0  \n",
       "5983323600580891431   241.0   552.0   25226.0  \n",
       "6549025562984299367   139.0   279.0  288123.0  \n",
       "6742557862815872936   258.0   587.0   45044.0  \n",
       "6847326422676498281    98.0   196.0   17640.0  \n",
       "6864443610550051939   104.0   231.0   37856.0  \n",
       "7164285449278522823  1049.0  2281.0   75425.0  \n",
       "7204754148424990691   188.0   405.0   36824.0  \n",
       "7247164925237372155    84.0   161.0   14014.0  \n",
       "7948270325129383019   419.0   906.0  110212.0  "
      ]
     },
     "execution_count": 66,
     "metadata": {},
     "output_type": "execute_result"
    }
   ],
   "source": [
    "df[['category', 'revenue_amount']].groupby(by = 'category').describe()"
   ]
  },
  {
   "cell_type": "code",
   "execution_count": 26,
   "metadata": {},
   "outputs": [
    {
     "data": {
      "image/png": "[encoded data removed]",
      "text/plain": [
       "<Figure size 576x360 with 1 Axes>"
      ]
     },
     "metadata": {},
     "output_type": "display_data"
    },
    {
     "data": {
      "image/png": "[encoded data removed]",
      "text/plain": [
       "<Figure size 576x360 with 1 Axes>"
      ]
     },
     "metadata": {},
     "output_type": "display_data"
    },
    {
     "data": {
      "image/png": "[encoded data removed]",
      "text/plain": [
       "<Figure size 576x360 with 1 Axes>"
      ]
     },
     "metadata": {},
     "output_type": "display_data"
    },
    {
     "data": {
      "image/png": "[encoded data removed]",
      "text/plain": [
       "<Figure size 576x360 with 1 Axes>"
      ]
     },
     "metadata": {},
     "output_type": "display_data"
    },
    {
     "data": {
      "image/png": "[encoded data removed]",
      "text/plain": [
       "<Figure size 576x360 with 1 Axes>"
      ]
     },
     "metadata": {},
     "output_type": "display_data"
    }
   ],
   "source": [
    "categ = df['category'].unique()[:5]\n",
    "\n",
    "for cat in categ:\n",
    "    plt.figure(figsize=(8,5))\n",
    "    data = df[(df['category'] == cat) & (df['revenue_amount'] <= df['revenue_amount'].quantile(0.95))]['revenue_amount']\n",
    "    plt.title(f'Revenue категории №{cat}, обрезанная на 95% перцентиль')\n",
    "    plt.hist(data)\n",
    "    plt.show()"
   ]
  },
  {
   "cell_type": "markdown",
   "metadata": {},
   "source": [
    "- В разрезе **region**:"
   ]
  },
  {
   "cell_type": "code",
   "execution_count": 4,
   "metadata": {},
   "outputs": [
    {
     "data": {
      "text/html": [
       "<div>\n",
       "<style scoped>\n",
       "    .dataframe tbody tr th:only-of-type {\n",
       "        vertical-align: middle;\n",
       "    }\n",
       "\n",
       "    .dataframe tbody tr th {\n",
       "        vertical-align: top;\n",
       "    }\n",
       "\n",
       "    .dataframe thead tr th {\n",
       "        text-align: left;\n",
       "    }\n",
       "\n",
       "    .dataframe thead tr:last-of-type th {\n",
       "        text-align: right;\n",
       "    }\n",
       "</style>\n",
       "<table border=\"1\" class=\"dataframe\">\n",
       "  <thead>\n",
       "    <tr>\n",
       "      <th></th>\n",
       "      <th colspan=\"8\" halign=\"left\">revenue_amount</th>\n",
       "    </tr>\n",
       "    <tr>\n",
       "      <th></th>\n",
       "      <th>count</th>\n",
       "      <th>mean</th>\n",
       "      <th>std</th>\n",
       "      <th>min</th>\n",
       "      <th>25%</th>\n",
       "      <th>50%</th>\n",
       "      <th>75%</th>\n",
       "      <th>max</th>\n",
       "    </tr>\n",
       "    <tr>\n",
       "      <th>region</th>\n",
       "      <th></th>\n",
       "      <th></th>\n",
       "      <th></th>\n",
       "      <th></th>\n",
       "      <th></th>\n",
       "      <th></th>\n",
       "      <th></th>\n",
       "      <th></th>\n",
       "    </tr>\n",
       "  </thead>\n",
       "  <tbody>\n",
       "    <tr>\n",
       "      <th>68475388295793322</th>\n",
       "      <td>95906.0</td>\n",
       "      <td>289.345317</td>\n",
       "      <td>504.681673</td>\n",
       "      <td>6.0</td>\n",
       "      <td>78.00</td>\n",
       "      <td>134.0</td>\n",
       "      <td>328.0</td>\n",
       "      <td>31816.0</td>\n",
       "    </tr>\n",
       "    <tr>\n",
       "      <th>181387893390186210</th>\n",
       "      <td>40756.0</td>\n",
       "      <td>299.629748</td>\n",
       "      <td>461.930430</td>\n",
       "      <td>8.0</td>\n",
       "      <td>70.00</td>\n",
       "      <td>140.0</td>\n",
       "      <td>328.0</td>\n",
       "      <td>13170.0</td>\n",
       "    </tr>\n",
       "    <tr>\n",
       "      <th>308194675497345788</th>\n",
       "      <td>22341.0</td>\n",
       "      <td>252.626919</td>\n",
       "      <td>544.986118</td>\n",
       "      <td>6.0</td>\n",
       "      <td>70.00</td>\n",
       "      <td>129.0</td>\n",
       "      <td>280.0</td>\n",
       "      <td>22775.0</td>\n",
       "    </tr>\n",
       "    <tr>\n",
       "      <th>385667469633138042</th>\n",
       "      <td>59486.0</td>\n",
       "      <td>272.589534</td>\n",
       "      <td>507.917500</td>\n",
       "      <td>6.0</td>\n",
       "      <td>69.00</td>\n",
       "      <td>132.0</td>\n",
       "      <td>284.0</td>\n",
       "      <td>23471.0</td>\n",
       "    </tr>\n",
       "    <tr>\n",
       "      <th>405364780634206711</th>\n",
       "      <td>1040.0</td>\n",
       "      <td>205.209615</td>\n",
       "      <td>295.197711</td>\n",
       "      <td>8.0</td>\n",
       "      <td>63.75</td>\n",
       "      <td>112.0</td>\n",
       "      <td>231.0</td>\n",
       "      <td>5121.0</td>\n",
       "    </tr>\n",
       "    <tr>\n",
       "      <th>...</th>\n",
       "      <td>...</td>\n",
       "      <td>...</td>\n",
       "      <td>...</td>\n",
       "      <td>...</td>\n",
       "      <td>...</td>\n",
       "      <td>...</td>\n",
       "      <td>...</td>\n",
       "      <td>...</td>\n",
       "    </tr>\n",
       "    <tr>\n",
       "      <th>9030439280442565223</th>\n",
       "      <td>63862.0</td>\n",
       "      <td>241.213507</td>\n",
       "      <td>374.722208</td>\n",
       "      <td>4.0</td>\n",
       "      <td>58.00</td>\n",
       "      <td>116.0</td>\n",
       "      <td>272.0</td>\n",
       "      <td>18971.0</td>\n",
       "    </tr>\n",
       "    <tr>\n",
       "      <th>9032475813655386611</th>\n",
       "      <td>75065.0</td>\n",
       "      <td>341.125571</td>\n",
       "      <td>583.562907</td>\n",
       "      <td>6.0</td>\n",
       "      <td>70.00</td>\n",
       "      <td>161.0</td>\n",
       "      <td>391.0</td>\n",
       "      <td>33244.0</td>\n",
       "    </tr>\n",
       "    <tr>\n",
       "      <th>9159753098538066161</th>\n",
       "      <td>50486.0</td>\n",
       "      <td>324.889870</td>\n",
       "      <td>721.907652</td>\n",
       "      <td>6.0</td>\n",
       "      <td>90.00</td>\n",
       "      <td>148.0</td>\n",
       "      <td>335.0</td>\n",
       "      <td>33051.0</td>\n",
       "    </tr>\n",
       "    <tr>\n",
       "      <th>9173615405044165275</th>\n",
       "      <td>3073.0</td>\n",
       "      <td>189.498536</td>\n",
       "      <td>230.607352</td>\n",
       "      <td>6.0</td>\n",
       "      <td>55.00</td>\n",
       "      <td>124.0</td>\n",
       "      <td>196.0</td>\n",
       "      <td>3538.0</td>\n",
       "    </tr>\n",
       "    <tr>\n",
       "      <th>9198008870977546443</th>\n",
       "      <td>108923.0</td>\n",
       "      <td>369.359878</td>\n",
       "      <td>613.172957</td>\n",
       "      <td>6.0</td>\n",
       "      <td>90.00</td>\n",
       "      <td>174.0</td>\n",
       "      <td>392.0</td>\n",
       "      <td>19725.0</td>\n",
       "    </tr>\n",
       "  </tbody>\n",
       "</table>\n",
       "<p>84 rows × 8 columns</p>\n",
       "</div>"
      ],
      "text/plain": [
       "                    revenue_amount                                             \\\n",
       "                             count        mean         std  min    25%    50%   \n",
       "region                                                                          \n",
       "68475388295793322          95906.0  289.345317  504.681673  6.0  78.00  134.0   \n",
       "181387893390186210         40756.0  299.629748  461.930430  8.0  70.00  140.0   \n",
       "308194675497345788         22341.0  252.626919  544.986118  6.0  70.00  129.0   \n",
       "385667469633138042         59486.0  272.589534  507.917500  6.0  69.00  132.0   \n",
       "405364780634206711          1040.0  205.209615  295.197711  8.0  63.75  112.0   \n",
       "...                            ...         ...         ...  ...    ...    ...   \n",
       "9030439280442565223        63862.0  241.213507  374.722208  4.0  58.00  116.0   \n",
       "9032475813655386611        75065.0  341.125571  583.562907  6.0  70.00  161.0   \n",
       "9159753098538066161        50486.0  324.889870  721.907652  6.0  90.00  148.0   \n",
       "9173615405044165275         3073.0  189.498536  230.607352  6.0  55.00  124.0   \n",
       "9198008870977546443       108923.0  369.359878  613.172957  6.0  90.00  174.0   \n",
       "\n",
       "                                     \n",
       "                       75%      max  \n",
       "region                               \n",
       "68475388295793322    328.0  31816.0  \n",
       "181387893390186210   328.0  13170.0  \n",
       "308194675497345788   280.0  22775.0  \n",
       "385667469633138042   284.0  23471.0  \n",
       "405364780634206711   231.0   5121.0  \n",
       "...                    ...      ...  \n",
       "9030439280442565223  272.0  18971.0  \n",
       "9032475813655386611  391.0  33244.0  \n",
       "9159753098538066161  335.0  33051.0  \n",
       "9173615405044165275  196.0   3538.0  \n",
       "9198008870977546443  392.0  19725.0  \n",
       "\n",
       "[84 rows x 8 columns]"
      ]
     },
     "execution_count": 4,
     "metadata": {},
     "output_type": "execute_result"
    }
   ],
   "source": [
    "df[['region', 'revenue_amount']].groupby(by = 'region').describe()"
   ]
  },
  {
   "cell_type": "code",
   "execution_count": 6,
   "metadata": {},
   "outputs": [
    {
     "data": {
      "image/png": "[encoded data removed]",
      "text/plain": [
       "<Figure size 576x360 with 1 Axes>"
      ]
     },
     "metadata": {},
     "output_type": "display_data"
    },
    {
     "data": {
      "image/png": "[encoded data removed]",
      "text/plain": [
       "<Figure size 576x360 with 1 Axes>"
      ]
     },
     "metadata": {},
     "output_type": "display_data"
    },
    {
     "data": {
      "image/png": "[encoded data removed]",
      "text/plain": [
       "<Figure size 576x360 with 1 Axes>"
      ]
     },
     "metadata": {},
     "output_type": "display_data"
    },
    {
     "data": {
      "image/png": "[encoded data removed]",
      "text/plain": [
       "<Figure size 576x360 with 1 Axes>"
      ]
     },
     "metadata": {},
     "output_type": "display_data"
    },
    {
     "data": {
      "image/png": "[encoded data removed]",
      "text/plain": [
       "<Figure size 576x360 with 1 Axes>"
      ]
     },
     "metadata": {},
     "output_type": "display_data"
    }
   ],
   "source": [
    "region = df['region'].unique()[:5]\n",
    "\n",
    "for reg in region:\n",
    "    plt.figure(figsize=(8,5))\n",
    "    data = df[(df['region'] == reg) & (df['revenue_amount'] <= df['revenue_amount'].quantile(0.95))]['revenue_amount']\n",
    "    plt.title(f'Revenue региона №{reg}, обрезанная на 95% перцентиль')\n",
    "    plt.hist(data)\n",
    "    plt.show()"
   ]
  },
  {
   "cell_type": "markdown",
   "metadata": {},
   "source": [
    "## 2. Предскажите минимально детектируемый эффект (MDE) 2 балла\n",
    "\n",
    "Для размеров тестовых групп 10,25,50% и длительностей 30, 60, 90 дней предскажите минимально детектируемый эффект\n",
    "\n",
    "Посмотрим, как менялась выручка по дням на всем датасете:"
   ]
  },
  {
   "cell_type": "code",
   "execution_count": 24,
   "metadata": {},
   "outputs": [
    {
     "data": {
      "image/png": "[encoded data removed]",
      "text/plain": [
       "<Figure size 720x504 with 1 Axes>"
      ]
     },
     "metadata": {},
     "output_type": "display_data"
    }
   ],
   "source": [
    "plt.figure(figsize=(10,7))\n",
    "data = df[['event_date', 'revenue_amount']].groupby(by = 'event_date').sum()\n",
    "plt.plot(data, label = 'revenue')\n",
    "plt.legend()\n",
    "plt.show()"
   ]
  },
  {
   "cell_type": "code",
   "execution_count": 4,
   "metadata": {},
   "outputs": [],
   "source": [
    "def choose_date(data, start_date, delta, share): \n",
    "    tmp = data[(data['event_date']>=start_date)&(data['event_date']<=start_date+datetime.timedelta(days=delta))]\n",
    "    tmp=tmp.groupby(['user_id']).sum().reset_index()\n",
    "    x = tmp[(tmp.user_id)%100<=100*share].reset_index()\n",
    "    return x\n",
    "\n",
    "#r - доля тестовой выборки от всей выборки\n",
    "def get_mde(sample, r, alpha = 0.05, power = 0.8) -> float:\n",
    "    sample = sample.iloc[sample.index < sample.shape[0]*r]\n",
    "    mean = np.mean(sample)\n",
    "    std = np.std(sample)\n",
    "    n = len(sample)\n",
    "    SE = tt_ind_solve_power(alpha=alpha, power=power, nobs1=n, ratio=r/(1-r), alternative = 'two-sided')\n",
    "    mde = (SE*std)/mean\n",
    "    return mde\n",
    "\n",
    "def get_mde_from_stats(mean, std, n, r, alpha = 0.05, power = 0.8) -> float:\n",
    "    SE = tt_ind_solve_power(alpha=alpha, power=power, nobs1=n, ratio=r/(1-r), alternative = 'two-sided')\n",
    "    mde = (SE*std)/mean\n",
    "    return mde\n",
    "\n",
    "def to_fixed(numObj, digits=0):\n",
    "    return f\"{numObj:.{digits}f}\"\n",
    "\n",
    "def date_mask(df, from_date, to_date):\n",
    "    return (df <= to_date) & (df >= from_date)  \n",
    "\n",
    "def cuped(metric, pre_period):\n",
    "    theta = np.cov(metric, pre_period)[0,1]/np.var(pre_period)\n",
    "    cuped_metric = metric - theta*(pre_period - np.mean(pre_period))\n",
    "    return cuped_metric"
   ]
  },
  {
   "cell_type": "markdown",
   "metadata": {},
   "source": [
    "Из графика выше видно, что **2019-12-09** произошло крупное падение выручки. Это может плохо повлиять на оценку дисперсии, поэтому исключим этот день из рассмотрения. Зафиксируем период из 3 месяцев."
   ]
  },
  {
   "cell_type": "code",
   "execution_count": 5,
   "metadata": {},
   "outputs": [],
   "source": [
    "dataupd = df[date_mask(df['event_date'], '2019-08-01', '2019-11-01')]"
   ]
  },
  {
   "cell_type": "code",
   "execution_count": 6,
   "metadata": {},
   "outputs": [
    {
     "data": {
      "image/png": "[encoded data removed]",
      "text/plain": [
       "<Figure size 720x504 with 1 Axes>"
      ]
     },
     "metadata": {},
     "output_type": "display_data"
    }
   ],
   "source": [
    "plt.figure(figsize=(10,7))\n",
    "plt.plot(dataupd[['event_date', 'revenue_amount']].groupby(by = 'event_date').sum(), label = 'revenue')\n",
    "plt.legend()\n",
    "plt.show()"
   ]
  },
  {
   "cell_type": "code",
   "execution_count": 12,
   "metadata": {},
   "outputs": [
    {
     "name": "stdout",
     "output_type": "stream",
     "text": [
      "Продолжительность эксперимента 30 дней, share = 10%, MDE = 8.19156 %\n",
      "Продолжительность эксперимента 30 дней, share = 25%, MDE = 6.09293 %\n",
      "Продолжительность эксперимента 30 дней, share = 50%, MDE = 6.28709 %\n",
      "Продолжительность эксперимента 60 дней, share = 10%, MDE = 7.89497 %\n",
      "Продолжительность эксперимента 60 дней, share = 25%, MDE = 5.88349 %\n",
      "Продолжительность эксперимента 60 дней, share = 50%, MDE = 5.95972 %\n",
      "Продолжительность эксперимента 90 дней, share = 10%, MDE = 8.07972 %\n",
      "Продолжительность эксперимента 90 дней, share = 25%, MDE = 6.00466 %\n",
      "Продолжительность эксперимента 90 дней, share = 50%, MDE = 5.97114 %\n"
     ]
    }
   ],
   "source": [
    "start = datetime.datetime(2019, 8, 1, 0, 0)\n",
    "\n",
    "for days in range(3, 10, 3):\n",
    "    for sh in [0.1, 0.25, 0.5]:\n",
    "        data = choose_date(dataupd, start, days*10, 1 - sh)\n",
    "        print(f'Продолжительность эксперимента {days*10} дней, share = {to_fixed(sh*100, 0)}%, MDE = {to_fixed(100*get_mde(data.revenue_amount, r = sh), 5)} %')"
   ]
  },
  {
   "cell_type": "markdown",
   "metadata": {},
   "source": [
    "Видим, что наименьший MDE дает эксперимент длиной 60 дней с отношением тестовой выборки в 50%."
   ]
  },
  {
   "cell_type": "markdown",
   "metadata": {},
   "source": [
    "## 3. CUPED\n",
    "\n",
    "- **Рассчитайте CUPED метрику на основе данных для периода в 30 дней перед предполагаемым периодом сбора основной выборки и опишите как изменился MDE для выборок 50/50%, собранных за 30 дней.**"
   ]
  },
  {
   "cell_type": "markdown",
   "metadata": {},
   "source": [
    "Выберем промежуток в последние 30 дней, имеющихся в датасете."
   ]
  },
  {
   "cell_type": "code",
   "execution_count": 47,
   "metadata": {},
   "outputs": [
    {
     "data": {
      "text/html": [
       "<div>\n",
       "<style scoped>\n",
       "    .dataframe tbody tr th:only-of-type {\n",
       "        vertical-align: middle;\n",
       "    }\n",
       "\n",
       "    .dataframe tbody tr th {\n",
       "        vertical-align: top;\n",
       "    }\n",
       "\n",
       "    .dataframe thead th {\n",
       "        text-align: right;\n",
       "    }\n",
       "</style>\n",
       "<table border=\"1\" class=\"dataframe\">\n",
       "  <thead>\n",
       "    <tr style=\"text-align: right;\">\n",
       "      <th></th>\n",
       "      <th>user_id</th>\n",
       "      <th>revenue_amount</th>\n",
       "    </tr>\n",
       "  </thead>\n",
       "  <tbody>\n",
       "    <tr>\n",
       "      <th>0</th>\n",
       "      <td>1912219714366</td>\n",
       "      <td>714.0</td>\n",
       "    </tr>\n",
       "    <tr>\n",
       "      <th>1</th>\n",
       "      <td>7562887359106</td>\n",
       "      <td>139.0</td>\n",
       "    </tr>\n",
       "    <tr>\n",
       "      <th>2</th>\n",
       "      <td>23708868092799</td>\n",
       "      <td>192.0</td>\n",
       "    </tr>\n",
       "    <tr>\n",
       "      <th>3</th>\n",
       "      <td>39239811475386</td>\n",
       "      <td>259.0</td>\n",
       "    </tr>\n",
       "    <tr>\n",
       "      <th>4</th>\n",
       "      <td>51991933272698</td>\n",
       "      <td>8119.0</td>\n",
       "    </tr>\n",
       "    <tr>\n",
       "      <th>...</th>\n",
       "      <td>...</td>\n",
       "      <td>...</td>\n",
       "    </tr>\n",
       "    <tr>\n",
       "      <th>536891</th>\n",
       "      <td>9223185124256504791</td>\n",
       "      <td>105.0</td>\n",
       "    </tr>\n",
       "    <tr>\n",
       "      <th>536892</th>\n",
       "      <td>9223201604511412042</td>\n",
       "      <td>49.0</td>\n",
       "    </tr>\n",
       "    <tr>\n",
       "      <th>536893</th>\n",
       "      <td>9223221513659911088</td>\n",
       "      <td>868.0</td>\n",
       "    </tr>\n",
       "    <tr>\n",
       "      <th>536894</th>\n",
       "      <td>9223353766165032250</td>\n",
       "      <td>48.0</td>\n",
       "    </tr>\n",
       "    <tr>\n",
       "      <th>536895</th>\n",
       "      <td>9223366785772814828</td>\n",
       "      <td>2418.0</td>\n",
       "    </tr>\n",
       "  </tbody>\n",
       "</table>\n",
       "<p>536896 rows × 2 columns</p>\n",
       "</div>"
      ],
      "text/plain": [
       "                    user_id  revenue_amount\n",
       "0             1912219714366           714.0\n",
       "1             7562887359106           139.0\n",
       "2            23708868092799           192.0\n",
       "3            39239811475386           259.0\n",
       "4            51991933272698          8119.0\n",
       "...                     ...             ...\n",
       "536891  9223185124256504791           105.0\n",
       "536892  9223201604511412042            49.0\n",
       "536893  9223221513659911088           868.0\n",
       "536894  9223353766165032250            48.0\n",
       "536895  9223366785772814828          2418.0\n",
       "\n",
       "[536896 rows x 2 columns]"
      ]
     },
     "execution_count": 47,
     "metadata": {},
     "output_type": "execute_result"
    }
   ],
   "source": [
    "start_date = datetime.datetime(2019, 11, 1, 0, 0)\n",
    "pre_date = datetime.datetime(2019, 10, 1, 0, 0)\n",
    "\n",
    "\n",
    "revenue30d = choose_date(df,start_date, 29, 1)[['user_id', 'revenue_amount']]\n",
    "revenue30d"
   ]
  },
  {
   "cell_type": "markdown",
   "metadata": {},
   "source": [
    "Создадим выборку предпериода:"
   ]
  },
  {
   "cell_type": "code",
   "execution_count": 101,
   "metadata": {},
   "outputs": [
    {
     "data": {
      "text/html": [
       "<div>\n",
       "<style scoped>\n",
       "    .dataframe tbody tr th:only-of-type {\n",
       "        vertical-align: middle;\n",
       "    }\n",
       "\n",
       "    .dataframe tbody tr th {\n",
       "        vertical-align: top;\n",
       "    }\n",
       "\n",
       "    .dataframe thead th {\n",
       "        text-align: right;\n",
       "    }\n",
       "</style>\n",
       "<table border=\"1\" class=\"dataframe\">\n",
       "  <thead>\n",
       "    <tr style=\"text-align: right;\">\n",
       "      <th></th>\n",
       "      <th>user_id</th>\n",
       "      <th>revenue_amount</th>\n",
       "    </tr>\n",
       "  </thead>\n",
       "  <tbody>\n",
       "    <tr>\n",
       "      <th>0</th>\n",
       "      <td>702221222224</td>\n",
       "      <td>356.0</td>\n",
       "    </tr>\n",
       "    <tr>\n",
       "      <th>1</th>\n",
       "      <td>1912219714366</td>\n",
       "      <td>70.0</td>\n",
       "    </tr>\n",
       "    <tr>\n",
       "      <th>2</th>\n",
       "      <td>23708868092799</td>\n",
       "      <td>144.0</td>\n",
       "    </tr>\n",
       "    <tr>\n",
       "      <th>3</th>\n",
       "      <td>39239811475386</td>\n",
       "      <td>195.0</td>\n",
       "    </tr>\n",
       "    <tr>\n",
       "      <th>4</th>\n",
       "      <td>45305541518475</td>\n",
       "      <td>250.0</td>\n",
       "    </tr>\n",
       "    <tr>\n",
       "      <th>...</th>\n",
       "      <td>...</td>\n",
       "      <td>...</td>\n",
       "    </tr>\n",
       "    <tr>\n",
       "      <th>587310</th>\n",
       "      <td>9223321829799437693</td>\n",
       "      <td>293.0</td>\n",
       "    </tr>\n",
       "    <tr>\n",
       "      <th>587311</th>\n",
       "      <td>9223348554567144516</td>\n",
       "      <td>70.0</td>\n",
       "    </tr>\n",
       "    <tr>\n",
       "      <th>587312</th>\n",
       "      <td>9223353766165032250</td>\n",
       "      <td>25.0</td>\n",
       "    </tr>\n",
       "    <tr>\n",
       "      <th>587313</th>\n",
       "      <td>9223366785772814828</td>\n",
       "      <td>4448.0</td>\n",
       "    </tr>\n",
       "    <tr>\n",
       "      <th>587314</th>\n",
       "      <td>9223368123214483614</td>\n",
       "      <td>909.0</td>\n",
       "    </tr>\n",
       "  </tbody>\n",
       "</table>\n",
       "<p>587315 rows × 2 columns</p>\n",
       "</div>"
      ],
      "text/plain": [
       "                    user_id  revenue_amount\n",
       "0              702221222224           356.0\n",
       "1             1912219714366            70.0\n",
       "2            23708868092799           144.0\n",
       "3            39239811475386           195.0\n",
       "4            45305541518475           250.0\n",
       "...                     ...             ...\n",
       "587310  9223321829799437693           293.0\n",
       "587311  9223348554567144516            70.0\n",
       "587312  9223353766165032250            25.0\n",
       "587313  9223366785772814828          4448.0\n",
       "587314  9223368123214483614           909.0\n",
       "\n",
       "[587315 rows x 2 columns]"
      ]
     },
     "execution_count": 101,
     "metadata": {},
     "output_type": "execute_result"
    }
   ],
   "source": [
    "revenue30d_pre = choose_date(df,pre_date, 29, 1)[['user_id', 'revenue_amount']]\n",
    "revenue30d_pre"
   ]
  },
  {
   "cell_type": "markdown",
   "metadata": {},
   "source": [
    "Сделаем джойн этих таблиц по пользователям"
   ]
  },
  {
   "cell_type": "code",
   "execution_count": 102,
   "metadata": {},
   "outputs": [],
   "source": [
    "joinreven30d = revenue30d.merge(revenue30d_pre, left_on = 'user_id', right_on = 'user_id', how = 'left')\n",
    "joinreven30d = joinreven30d.rename(columns = {'revenue_amount_x': 'revenue', 'revenue_amount_y': 'pre_revenue'})"
   ]
  },
  {
   "cell_type": "code",
   "execution_count": 103,
   "metadata": {},
   "outputs": [],
   "source": [
    "joinreven30d['pre_revenue'] = joinreven30d['pre_revenue'].fillna(0)"
   ]
  },
  {
   "cell_type": "markdown",
   "metadata": {},
   "source": [
    "Вычислим CUPED-метрику **cuped_revenue**."
   ]
  },
  {
   "cell_type": "code",
   "execution_count": 104,
   "metadata": {},
   "outputs": [
    {
     "data": {
      "text/html": [
       "<div>\n",
       "<style scoped>\n",
       "    .dataframe tbody tr th:only-of-type {\n",
       "        vertical-align: middle;\n",
       "    }\n",
       "\n",
       "    .dataframe tbody tr th {\n",
       "        vertical-align: top;\n",
       "    }\n",
       "\n",
       "    .dataframe thead th {\n",
       "        text-align: right;\n",
       "    }\n",
       "</style>\n",
       "<table border=\"1\" class=\"dataframe\">\n",
       "  <thead>\n",
       "    <tr style=\"text-align: right;\">\n",
       "      <th></th>\n",
       "      <th>user_id</th>\n",
       "      <th>revenue</th>\n",
       "      <th>pre_revenue</th>\n",
       "      <th>cuped_revenue</th>\n",
       "    </tr>\n",
       "  </thead>\n",
       "  <tbody>\n",
       "    <tr>\n",
       "      <th>0</th>\n",
       "      <td>1912219714366</td>\n",
       "      <td>714.0</td>\n",
       "      <td>70.0</td>\n",
       "      <td>1192.485581</td>\n",
       "    </tr>\n",
       "    <tr>\n",
       "      <th>1</th>\n",
       "      <td>7562887359106</td>\n",
       "      <td>139.0</td>\n",
       "      <td>0.0</td>\n",
       "      <td>667.077393</td>\n",
       "    </tr>\n",
       "    <tr>\n",
       "      <th>2</th>\n",
       "      <td>23708868092799</td>\n",
       "      <td>192.0</td>\n",
       "      <td>144.0</td>\n",
       "      <td>618.059950</td>\n",
       "    </tr>\n",
       "    <tr>\n",
       "      <th>3</th>\n",
       "      <td>39239811475386</td>\n",
       "      <td>259.0</td>\n",
       "      <td>195.0</td>\n",
       "      <td>648.928773</td>\n",
       "    </tr>\n",
       "    <tr>\n",
       "      <th>4</th>\n",
       "      <td>51991933272698</td>\n",
       "      <td>8119.0</td>\n",
       "      <td>1209.0</td>\n",
       "      <td>7790.555945</td>\n",
       "    </tr>\n",
       "    <tr>\n",
       "      <th>...</th>\n",
       "      <td>...</td>\n",
       "      <td>...</td>\n",
       "      <td>...</td>\n",
       "      <td>...</td>\n",
       "    </tr>\n",
       "    <tr>\n",
       "      <th>536891</th>\n",
       "      <td>9223185124256504791</td>\n",
       "      <td>105.0</td>\n",
       "      <td>0.0</td>\n",
       "      <td>633.077393</td>\n",
       "    </tr>\n",
       "    <tr>\n",
       "      <th>536892</th>\n",
       "      <td>9223201604511412042</td>\n",
       "      <td>49.0</td>\n",
       "      <td>0.0</td>\n",
       "      <td>577.077393</td>\n",
       "    </tr>\n",
       "    <tr>\n",
       "      <th>536893</th>\n",
       "      <td>9223221513659911088</td>\n",
       "      <td>868.0</td>\n",
       "      <td>0.0</td>\n",
       "      <td>1396.077393</td>\n",
       "    </tr>\n",
       "    <tr>\n",
       "      <th>536894</th>\n",
       "      <td>9223353766165032250</td>\n",
       "      <td>48.0</td>\n",
       "      <td>25.0</td>\n",
       "      <td>558.366032</td>\n",
       "    </tr>\n",
       "    <tr>\n",
       "      <th>536895</th>\n",
       "      <td>9223366785772814828</td>\n",
       "      <td>2418.0</td>\n",
       "      <td>4448.0</td>\n",
       "      <td>-205.128066</td>\n",
       "    </tr>\n",
       "  </tbody>\n",
       "</table>\n",
       "<p>536896 rows × 4 columns</p>\n",
       "</div>"
      ],
      "text/plain": [
       "                    user_id  revenue  pre_revenue  cuped_revenue\n",
       "0             1912219714366    714.0         70.0    1192.485581\n",
       "1             7562887359106    139.0          0.0     667.077393\n",
       "2            23708868092799    192.0        144.0     618.059950\n",
       "3            39239811475386    259.0        195.0     648.928773\n",
       "4            51991933272698   8119.0       1209.0    7790.555945\n",
       "...                     ...      ...          ...            ...\n",
       "536891  9223185124256504791    105.0          0.0     633.077393\n",
       "536892  9223201604511412042     49.0          0.0     577.077393\n",
       "536893  9223221513659911088    868.0          0.0    1396.077393\n",
       "536894  9223353766165032250     48.0         25.0     558.366032\n",
       "536895  9223366785772814828   2418.0       4448.0    -205.128066\n",
       "\n",
       "[536896 rows x 4 columns]"
      ]
     },
     "execution_count": 104,
     "metadata": {},
     "output_type": "execute_result"
    }
   ],
   "source": [
    "joinreven30d['cuped_revenue'] = cuped(joinreven30d['revenue'], joinreven30d['pre_revenue'])\n",
    "joinreven30d"
   ]
  },
  {
   "cell_type": "markdown",
   "metadata": {},
   "source": [
    "Посмотрим, как изменилось среднеквадратичное отклонение для данной метрики до и после CUPED."
   ]
  },
  {
   "cell_type": "code",
   "execution_count": 105,
   "metadata": {},
   "outputs": [
    {
     "data": {
      "text/plain": [
       "1.4677162294921704"
      ]
     },
     "execution_count": 105,
     "metadata": {},
     "output_type": "execute_result"
    }
   ],
   "source": [
    "np.std(joinreven30d['revenue'])/np.std(joinreven30d['cuped_revenue'])"
   ]
  },
  {
   "cell_type": "markdown",
   "metadata": {},
   "source": [
    "Как видно, std уменьшилось в 2 раза."
   ]
  },
  {
   "cell_type": "markdown",
   "metadata": {},
   "source": [
    "Сравним MDE до и после CUPED:"
   ]
  },
  {
   "cell_type": "code",
   "execution_count": 142,
   "metadata": {},
   "outputs": [
    {
     "name": "stdout",
     "output_type": "stream",
     "text": [
      "MDE = 5.469%, MDE with CUPED = 4%\n"
     ]
    }
   ],
   "source": [
    "mde = get_mde(joinreven30d['revenue'], r = 0.5)*100\n",
    "mde_cuped = get_mde(joinreven30d['cuped_revenue'], r = 0.5)*100\n",
    "\n",
    "print(f'MDE = {to_fixed(mde,3)}%, MDE with CUPED = {to_fixed(mde_cuped)}%')"
   ]
  },
  {
   "cell_type": "markdown",
   "metadata": {},
   "source": [
    "MDE с CUPED значительно уменьшился, следовательно, тест стал лучше."
   ]
  },
  {
   "cell_type": "markdown",
   "metadata": {},
   "source": [
    "- **Проверим, насколько данный подход подвержен сезональности и как меняется MDE, если применять данный подход в разные периоды.**\n",
    "\n",
    "Автоматизируем подсчет MDE и CUPED MDE с помощью следующего метода"
   ]
  },
  {
   "cell_type": "code",
   "execution_count": 6,
   "metadata": {},
   "outputs": [],
   "source": [
    "def cuped_sample(sample, pre_sample):\n",
    "    joined = sample.merge(pre_sample, left_on = 'user_id', right_on = 'user_id', how = 'left')\n",
    "    joined = joined.rename(columns = {'revenue_amount_x': 'revenue', 'revenue_amount_y': 'pre_revenue'})\n",
    "    joined['pre_revenue'] = joined['pre_revenue'].fillna(0)\n",
    "    joined['cuped_revenue'] = cuped(joined['revenue'], joined['pre_revenue'])\n",
    "    return joined"
   ]
  },
  {
   "cell_type": "code",
   "execution_count": 42,
   "metadata": {},
   "outputs": [
    {
     "data": {
      "text/html": [
       "<div>\n",
       "<style scoped>\n",
       "    .dataframe tbody tr th:only-of-type {\n",
       "        vertical-align: middle;\n",
       "    }\n",
       "\n",
       "    .dataframe tbody tr th {\n",
       "        vertical-align: top;\n",
       "    }\n",
       "\n",
       "    .dataframe thead th {\n",
       "        text-align: right;\n",
       "    }\n",
       "</style>\n",
       "<table border=\"1\" class=\"dataframe\">\n",
       "  <thead>\n",
       "    <tr style=\"text-align: right;\">\n",
       "      <th></th>\n",
       "      <th>revenue</th>\n",
       "      <th>pre_revenue</th>\n",
       "      <th>cuped_revenue</th>\n",
       "    </tr>\n",
       "    <tr>\n",
       "      <th>user_id</th>\n",
       "      <th></th>\n",
       "      <th></th>\n",
       "      <th></th>\n",
       "    </tr>\n",
       "  </thead>\n",
       "  <tbody>\n",
       "    <tr>\n",
       "      <th>1912219714366</th>\n",
       "      <td>714.0</td>\n",
       "      <td>0.0</td>\n",
       "      <td>1361.514869</td>\n",
       "    </tr>\n",
       "    <tr>\n",
       "      <th>7562887359106</th>\n",
       "      <td>139.0</td>\n",
       "      <td>0.0</td>\n",
       "      <td>786.514869</td>\n",
       "    </tr>\n",
       "    <tr>\n",
       "      <th>23708868092799</th>\n",
       "      <td>192.0</td>\n",
       "      <td>370.0</td>\n",
       "      <td>590.655844</td>\n",
       "    </tr>\n",
       "    <tr>\n",
       "      <th>39239811475386</th>\n",
       "      <td>259.0</td>\n",
       "      <td>294.0</td>\n",
       "      <td>708.772833</td>\n",
       "    </tr>\n",
       "    <tr>\n",
       "      <th>51991933272698</th>\n",
       "      <td>8119.0</td>\n",
       "      <td>5235.0</td>\n",
       "      <td>5245.495967</td>\n",
       "    </tr>\n",
       "    <tr>\n",
       "      <th>...</th>\n",
       "      <td>...</td>\n",
       "      <td>...</td>\n",
       "      <td>...</td>\n",
       "    </tr>\n",
       "    <tr>\n",
       "      <th>9223185124256504791</th>\n",
       "      <td>105.0</td>\n",
       "      <td>49.0</td>\n",
       "      <td>719.557863</td>\n",
       "    </tr>\n",
       "    <tr>\n",
       "      <th>9223201604511412042</th>\n",
       "      <td>49.0</td>\n",
       "      <td>0.0</td>\n",
       "      <td>696.514869</td>\n",
       "    </tr>\n",
       "    <tr>\n",
       "      <th>9223221513659911088</th>\n",
       "      <td>868.0</td>\n",
       "      <td>0.0</td>\n",
       "      <td>1515.514869</td>\n",
       "    </tr>\n",
       "    <tr>\n",
       "      <th>9223353766165032250</th>\n",
       "      <td>48.0</td>\n",
       "      <td>0.0</td>\n",
       "      <td>695.514869</td>\n",
       "    </tr>\n",
       "    <tr>\n",
       "      <th>9223366785772814828</th>\n",
       "      <td>2418.0</td>\n",
       "      <td>5194.0</td>\n",
       "      <td>-427.927762</td>\n",
       "    </tr>\n",
       "  </tbody>\n",
       "</table>\n",
       "<p>536896 rows × 3 columns</p>\n",
       "</div>"
      ],
      "text/plain": [
       "                     revenue  pre_revenue  cuped_revenue\n",
       "user_id                                                 \n",
       "1912219714366          714.0          0.0    1361.514869\n",
       "7562887359106          139.0          0.0     786.514869\n",
       "23708868092799         192.0        370.0     590.655844\n",
       "39239811475386         259.0        294.0     708.772833\n",
       "51991933272698        8119.0       5235.0    5245.495967\n",
       "...                      ...          ...            ...\n",
       "9223185124256504791    105.0         49.0     719.557863\n",
       "9223201604511412042     49.0          0.0     696.514869\n",
       "9223221513659911088    868.0          0.0    1515.514869\n",
       "9223353766165032250     48.0          0.0     695.514869\n",
       "9223366785772814828   2418.0       5194.0    -427.927762\n",
       "\n",
       "[536896 rows x 3 columns]"
      ]
     },
     "execution_count": 42,
     "metadata": {},
     "output_type": "execute_result"
    }
   ],
   "source": [
    "cuped_sample(revenue30d,revenue30d_pre, 0.5)"
   ]
  },
  {
   "cell_type": "markdown",
   "metadata": {},
   "source": [
    "Рассмотрим CUPED в следующие периоды длиной месяц:\n",
    "\n",
    " - Период с 2019-09-01 , предпериод с 2019-08-02\n",
    " - Период с 2019-09-15 , предпериод с 2019-08-16\n",
    " - Период с 2019-10-01 , предпериод с 2019-09-01\n",
    " - Период с 2019-10-15 , предпериод с 2019-09-15\n",
    " - Период с 2019-11-01 , предпериод с 2019-10-02\n",
    " - Период с 2019-11-15 , предпериод с 2019-10-16\n"
   ]
  },
  {
   "cell_type": "code",
   "execution_count": 143,
   "metadata": {},
   "outputs": [
    {
     "name": "stdout",
     "output_type": "stream",
     "text": [
      "Период с 2019-09-01 по 2019-09-30, предпериод с 2019-08-02 по 2019-08-31:\n",
      "  • MDE = 4.77%\n",
      "  • CUPED MDE = 2.43%\n",
      "Период с 2019-09-15 по 2019-10-14, предпериод с 2019-08-16 по 2019-09-14:\n",
      "  • MDE = 5.36%\n",
      "  • CUPED MDE = 2.68%\n",
      "Период с 2019-10-01 по 2019-10-30, предпериод с 2019-09-01 по 2019-09-30:\n",
      "  • MDE = 5.47%\n",
      "  • CUPED MDE = 2.43%\n",
      "Период с 2019-10-15 по 2019-11-13, предпериод с 2019-09-15 по 2019-10-14:\n",
      "  • MDE = 5.53%\n",
      "  • CUPED MDE = 2.49%\n",
      "Период с 2019-11-01 по 2019-11-30, предпериод с 2019-10-02 по 2019-10-31:\n",
      "  • MDE = 5.47%\n",
      "  • CUPED MDE = 2.61%\n",
      "Период с 2019-11-15 по 2019-12-14, предпериод с 2019-10-16 по 2019-11-14:\n",
      "  • MDE = 5.16%\n",
      "  • CUPED MDE = 2.47%\n"
     ]
    }
   ],
   "source": [
    "months = [9, 10, 11]\n",
    "days = [1, 15]\n",
    "r = 0.5\n",
    "\n",
    "for month in months:\n",
    "    for day in days:\n",
    "        start_date = datetime.datetime(2019, month, day)\n",
    "        pre_date = datetime.datetime(2019, month, day) - datetime.timedelta(days=30)\n",
    "        revenue = choose_date(df,start_date, 29, 1)[['user_id', 'revenue_amount']]\n",
    "        pre_revenue = choose_date(df,pre_date, 29, 1)[['user_id', 'revenue_amount']]\n",
    "        cuped_revenue = cuped_sample(revenue, pre_revenue)\n",
    "        mde = get_mde(cuped_revenue['revenue'], r = 0.5)*100\n",
    "        mde_cuped = get_mde(cuped_revenue['cuped_revenue'], r = 0.5)*100\n",
    "        print(f'Период с {start_date.date()} по {(start_date + datetime.timedelta(days=29)).date()}, предпериод с {pre_date.date()} по {(pre_date + datetime.timedelta(days=29)).date()}:')\n",
    "        print(f'  • MDE = {to_fixed(mde,2)}%')\n",
    "        print(f'  • CUPED MDE = {to_fixed(mde_cuped, 2)}%')"
   ]
  },
  {
   "cell_type": "markdown",
   "metadata": {},
   "source": [
    "**Вывод:** сезональность, которая есть в данных, влияет на MDE, но незначительно. В данном случае это вызвано тем, что сезоны в данном случае проявляют себя слабо, образуя практически стационарный ряд."
   ]
  },
  {
   "cell_type": "markdown",
   "metadata": {},
   "source": [
    "- **Оптимизируем подход, варьируя количество дней до теста, которые будем брать для расчёта CUPED метрики. Найдем максимальное снижение MDE**.\n",
    "\n",
    "Пусть мы хотим провести эксперимент в период  с **2019-12-01** по **2019-12-30**. Будем замерять MDE на периоде **2019-11-01** по **2019-11-30**. При этом предпериод будем сдвигать с шагом в 10 дней в прошлое, замеряя MDE."
   ]
  },
  {
   "cell_type": "code",
   "execution_count": 14,
   "metadata": {},
   "outputs": [
    {
     "name": "stdout",
     "output_type": "stream",
     "text": [
      "Основной период есть 2019-11-01, предпериоды: \n",
      " • 2019-06-19 до 2019-06-28 => CUPED MDE = 4.30%\n",
      " • 2019-06-29 до 2019-07-08 => CUPED MDE = 4.15%\n",
      " • 2019-07-09 до 2019-07-18 => CUPED MDE = 4.61%\n",
      " • 2019-07-19 до 2019-07-28 => CUPED MDE = 3.97%\n",
      " • 2019-07-29 до 2019-08-07 => CUPED MDE = 3.92%\n",
      " • 2019-08-08 до 2019-08-17 => CUPED MDE = 4.04%\n",
      " • 2019-08-18 до 2019-08-27 => CUPED MDE = 3.67%\n",
      " • 2019-08-28 до 2019-09-06 => CUPED MDE = 3.48%\n",
      " • 2019-09-07 до 2019-09-16 => CUPED MDE = 2.96%\n",
      " • 2019-09-17 до 2019-09-26 => CUPED MDE = 2.98%\n",
      " • 2019-09-27 до 2019-10-06 => CUPED MDE = 3.20%\n",
      " • 2019-10-07 до 2019-10-16 => CUPED MDE = 2.74%\n",
      " • 2019-10-17 до 2019-10-26 => CUPED MDE = 2.77%\n"
     ]
    }
   ],
   "source": [
    "start_date = datetime.datetime(2019, 11, 1)\n",
    "pre_date = datetime.datetime(2019, 6, 9)\n",
    "step = 9\n",
    "r = 0.5\n",
    "mde_array = []\n",
    "datas = []\n",
    "revenue = choose_date(df,start_date, 29, 1)[['user_id', 'revenue_amount']]\n",
    "\n",
    "print(f'Основной период есть {start_date.date()}, предпериоды: ')\n",
    "while pre_date + 2*datetime.timedelta(days=step) < start_date:\n",
    "    pre_date = pre_date + datetime.timedelta(days=step + 1)\n",
    "    revenue = choose_date(df,start_date, 29, 1)\n",
    "    pre_revenue = choose_date(df,pre_date, 10, 1)\n",
    "    cuped_revenue = cuped_sample(revenue[['user_id', 'revenue_amount']], pre_revenue[['user_id', 'revenue_amount']])\n",
    "    cuped_mde = get_mde(cuped_revenue['cuped_revenue'], r = 0.5)*100\n",
    "    mde_array.append(cuped_mde)\n",
    "    datas.append(pre_date)\n",
    "    print(f' • {pre_date.date()} до {(pre_date + datetime.timedelta(days=step)).date()} => CUPED MDE = {to_fixed(cuped_mde,2)}%')"
   ]
  },
  {
   "cell_type": "code",
   "execution_count": 18,
   "metadata": {},
   "outputs": [
    {
     "data": {
      "image/png": "[encoded data removed]",
      "text/plain": [
       "<Figure size 720x504 with 1 Axes>"
      ]
     },
     "metadata": {},
     "output_type": "display_data"
    }
   ],
   "source": [
    "plt.figure(figsize=(10,7))\n",
    "plt.plot(datas, mde_array, label = 'CUPED MDE')\n",
    "plt.legend()\n",
    "plt.show()"
   ]
  },
  {
   "cell_type": "markdown",
   "metadata": {},
   "source": [
    "Видим, что чем ближе предпериод выбирался к основному периоду, тем меньше был CUPED MDE, и, тем самым, лучше критерий. Это можно объяснить тем, что пользователи в основном периоде гораздо вероятнее встречаются в данном периоде, а не в далеком прошлом."
   ]
  },
  {
   "cell_type": "markdown",
   "metadata": {},
   "source": [
    "Например, число пользователей в данном периоде, совершавших транзакции за 10 дней до начала периода есть:"
   ]
  },
  {
   "cell_type": "code",
   "execution_count": 39,
   "metadata": {},
   "outputs": [
    {
     "data": {
      "text/plain": [
       "160975"
      ]
     },
     "execution_count": 39,
     "metadata": {},
     "output_type": "execute_result"
    }
   ],
   "source": [
    "len(np.intersect1d(choose_date(df,start_date - datetime.timedelta(days=20), 10, 1)['user_id'], choose_date(df,start_date, 29, 1)['user_id']))"
   ]
  },
  {
   "cell_type": "markdown",
   "metadata": {},
   "source": [
    "Число пользователей в данном периоде, совершавших транзакции за 90 дней до начала периода есть:"
   ]
  },
  {
   "cell_type": "code",
   "execution_count": 40,
   "metadata": {},
   "outputs": [
    {
     "data": {
      "text/plain": [
       "109633"
      ]
     },
     "execution_count": 40,
     "metadata": {},
     "output_type": "execute_result"
    }
   ],
   "source": [
    "len(np.intersect1d(choose_date(df,start_date - datetime.timedelta(days=100), 10, 1)['user_id'], choose_date(df,start_date, 29, 1)['user_id']))"
   ]
  },
  {
   "cell_type": "markdown",
   "metadata": {},
   "source": [
    "Очевидно, что их стало значительно меньше.\n",
    "\n",
    "**Вывод по заданию:** в CUPED стоит брать предпериод, который является ближайшим к данному периоду. "
   ]
  },
  {
   "cell_type": "markdown",
   "metadata": {},
   "source": [
    "## 4. Стратификация"
   ]
  },
  {
   "cell_type": "markdown",
   "metadata": {},
   "source": [
    "- **Стратифицируйте выборки внутри срезов user_segment, region, category. Рассчитайте стратифицированные среднее,стандартное отклонение для этих выборок и MDE для теста 50/50% длительностью 30 дней.**\n",
    "\n",
    "В данном задании мы будем выполнять пост-стратификацию, при этом доли страт будем брать из исторических данных. Напишем метод, который по заданной категории будет получать стратифицированное среднее и дисперсию."
   ]
  },
  {
   "cell_type": "code",
   "execution_count": 224,
   "metadata": {},
   "outputs": [
    {
     "data": {
      "text/html": [
       "<div>\n",
       "<style scoped>\n",
       "    .dataframe tbody tr th:only-of-type {\n",
       "        vertical-align: middle;\n",
       "    }\n",
       "\n",
       "    .dataframe tbody tr th {\n",
       "        vertical-align: top;\n",
       "    }\n",
       "\n",
       "    .dataframe thead th {\n",
       "        text-align: right;\n",
       "    }\n",
       "</style>\n",
       "<table border=\"1\" class=\"dataframe\">\n",
       "  <thead>\n",
       "    <tr style=\"text-align: right;\">\n",
       "      <th></th>\n",
       "      <th>event_date</th>\n",
       "      <th>user_id</th>\n",
       "      <th>user_segment</th>\n",
       "      <th>category</th>\n",
       "      <th>region</th>\n",
       "      <th>revenue_amount</th>\n",
       "    </tr>\n",
       "  </thead>\n",
       "  <tbody>\n",
       "    <tr>\n",
       "      <th>0</th>\n",
       "      <td>2019-06-18</td>\n",
       "      <td>4129257975403696</td>\n",
       "      <td>4626944681007198896</td>\n",
       "      <td>7204754148424990691</td>\n",
       "      <td>2201388710798473628</td>\n",
       "      <td>139</td>\n",
       "    </tr>\n",
       "    <tr>\n",
       "      <th>1</th>\n",
       "      <td>2019-06-18</td>\n",
       "      <td>7225254357470025</td>\n",
       "      <td>4626944681007198896</td>\n",
       "      <td>57514010642945023</td>\n",
       "      <td>3048517866726460689</td>\n",
       "      <td>193</td>\n",
       "    </tr>\n",
       "    <tr>\n",
       "      <th>2</th>\n",
       "      <td>2019-06-18</td>\n",
       "      <td>8912846500600569</td>\n",
       "      <td>4626944681007198896</td>\n",
       "      <td>5983323600580891431</td>\n",
       "      <td>3048517866726460689</td>\n",
       "      <td>160</td>\n",
       "    </tr>\n",
       "    <tr>\n",
       "      <th>3</th>\n",
       "      <td>2019-06-18</td>\n",
       "      <td>20910801279823046</td>\n",
       "      <td>4626944681007198896</td>\n",
       "      <td>6847326422676498281</td>\n",
       "      <td>7762196236856042106</td>\n",
       "      <td>209</td>\n",
       "    </tr>\n",
       "    <tr>\n",
       "      <th>4</th>\n",
       "      <td>2019-06-18</td>\n",
       "      <td>34873300821657220</td>\n",
       "      <td>2376074197230840906</td>\n",
       "      <td>3187769798308634693</td>\n",
       "      <td>3855810523611026650</td>\n",
       "      <td>160</td>\n",
       "    </tr>\n",
       "    <tr>\n",
       "      <th>...</th>\n",
       "      <td>...</td>\n",
       "      <td>...</td>\n",
       "      <td>...</td>\n",
       "      <td>...</td>\n",
       "      <td>...</td>\n",
       "      <td>...</td>\n",
       "    </tr>\n",
       "    <tr>\n",
       "      <th>99995</th>\n",
       "      <td>2019-06-18</td>\n",
       "      <td>487273082120233739</td>\n",
       "      <td>4626944681007198896</td>\n",
       "      <td>91460430793700892</td>\n",
       "      <td>690419174463540260</td>\n",
       "      <td>139</td>\n",
       "    </tr>\n",
       "    <tr>\n",
       "      <th>99996</th>\n",
       "      <td>2019-06-18</td>\n",
       "      <td>491901550673056588</td>\n",
       "      <td>2376074197230840906</td>\n",
       "      <td>5983323600580891431</td>\n",
       "      <td>8867014108346120905</td>\n",
       "      <td>111</td>\n",
       "    </tr>\n",
       "    <tr>\n",
       "      <th>99997</th>\n",
       "      <td>2019-06-18</td>\n",
       "      <td>492035189034133244</td>\n",
       "      <td>4626944681007198896</td>\n",
       "      <td>3429514168013826643</td>\n",
       "      <td>3855810523611026650</td>\n",
       "      <td>97</td>\n",
       "    </tr>\n",
       "    <tr>\n",
       "      <th>99998</th>\n",
       "      <td>2019-06-18</td>\n",
       "      <td>502060020254352160</td>\n",
       "      <td>2376074197230840906</td>\n",
       "      <td>3187769798308634693</td>\n",
       "      <td>3855810523611026650</td>\n",
       "      <td>573</td>\n",
       "    </tr>\n",
       "    <tr>\n",
       "      <th>99999</th>\n",
       "      <td>2019-06-18</td>\n",
       "      <td>502617221760662461</td>\n",
       "      <td>2376074197230840906</td>\n",
       "      <td>7204754148424990691</td>\n",
       "      <td>3609318790733345873</td>\n",
       "      <td>69</td>\n",
       "    </tr>\n",
       "  </tbody>\n",
       "</table>\n",
       "<p>100000 rows × 6 columns</p>\n",
       "</div>"
      ],
      "text/plain": [
       "      event_date             user_id         user_segment  \\\n",
       "0     2019-06-18    4129257975403696  4626944681007198896   \n",
       "1     2019-06-18    7225254357470025  4626944681007198896   \n",
       "2     2019-06-18    8912846500600569  4626944681007198896   \n",
       "3     2019-06-18   20910801279823046  4626944681007198896   \n",
       "4     2019-06-18   34873300821657220  2376074197230840906   \n",
       "...          ...                 ...                  ...   \n",
       "99995 2019-06-18  487273082120233739  4626944681007198896   \n",
       "99996 2019-06-18  491901550673056588  2376074197230840906   \n",
       "99997 2019-06-18  492035189034133244  4626944681007198896   \n",
       "99998 2019-06-18  502060020254352160  2376074197230840906   \n",
       "99999 2019-06-18  502617221760662461  2376074197230840906   \n",
       "\n",
       "                  category               region  revenue_amount  \n",
       "0      7204754148424990691  2201388710798473628             139  \n",
       "1        57514010642945023  3048517866726460689             193  \n",
       "2      5983323600580891431  3048517866726460689             160  \n",
       "3      6847326422676498281  7762196236856042106             209  \n",
       "4      3187769798308634693  3855810523611026650             160  \n",
       "...                    ...                  ...             ...  \n",
       "99995    91460430793700892   690419174463540260             139  \n",
       "99996  5983323600580891431  8867014108346120905             111  \n",
       "99997  3429514168013826643  3855810523611026650              97  \n",
       "99998  3187769798308634693  3855810523611026650             573  \n",
       "99999  7204754148424990691  3609318790733345873              69  \n",
       "\n",
       "[100000 rows x 6 columns]"
      ]
     },
     "execution_count": 224,
     "metadata": {},
     "output_type": "execute_result"
    }
   ],
   "source": [
    "test = df[:100000]\n",
    "test"
   ]
  },
  {
   "cell_type": "code",
   "execution_count": 236,
   "metadata": {},
   "outputs": [],
   "source": [
    "us1 = np.array(test[test['category'] == 7204754148424990691]['user_id'])\n",
    "us2 = np.array(test[test['category'] == 91460430793700892]['user_id'])"
   ]
  },
  {
   "cell_type": "code",
   "execution_count": 237,
   "metadata": {},
   "outputs": [
    {
     "data": {
      "text/plain": [
       "array([ 312030881033080760,  956381695795534332, 1026896402750839972,\n",
       "       1053525293755709130, 1104468119842326269, 1583488658620102924,\n",
       "       2030882421007819096, 2287653600390440550, 2748138336924098804,\n",
       "       3587609298491657123, 3893148842542284829, 4291411495989443907,\n",
       "       4546742597609611739, 4629591464721406923, 4767601965509834333,\n",
       "       4845976995270638076, 5097868406965225144, 5190369750704445900,\n",
       "       5196957028930357221, 5344267903461573023, 6017396673204177877,\n",
       "       6451109199929342305, 6523843366195877737, 6683092900011841116,\n",
       "       7055764867585774826, 7722524678348852014, 8420932598361291066,\n",
       "       8445123150393835991, 8485015432386287140, 8851992079499799900],\n",
       "      dtype=int64)"
      ]
     },
     "execution_count": 237,
     "metadata": {},
     "output_type": "execute_result"
    }
   ],
   "source": [
    "np.intersect1d(us1, us2)"
   ]
  },
  {
   "cell_type": "markdown",
   "metadata": {},
   "source": [
    "1. Стратифицируем выборку по **user_segment**. Мы заранее знаем, что пользователи в различных сегментах не пересекаются, поэтому сгруппируем действия пользователей в заданных сегментах."
   ]
  },
  {
   "cell_type": "code",
   "execution_count": 218,
   "metadata": {},
   "outputs": [
    {
     "data": {
      "text/html": [
       "<div>\n",
       "<style scoped>\n",
       "    .dataframe tbody tr th:only-of-type {\n",
       "        vertical-align: middle;\n",
       "    }\n",
       "\n",
       "    .dataframe tbody tr th {\n",
       "        vertical-align: top;\n",
       "    }\n",
       "\n",
       "    .dataframe thead th {\n",
       "        text-align: right;\n",
       "    }\n",
       "</style>\n",
       "<table border=\"1\" class=\"dataframe\">\n",
       "  <thead>\n",
       "    <tr style=\"text-align: right;\">\n",
       "      <th></th>\n",
       "      <th></th>\n",
       "      <th>revenue_amount</th>\n",
       "    </tr>\n",
       "    <tr>\n",
       "      <th>user_id</th>\n",
       "      <th>category</th>\n",
       "      <th></th>\n",
       "    </tr>\n",
       "  </thead>\n",
       "  <tbody>\n",
       "    <tr>\n",
       "      <th>277934167554935</th>\n",
       "      <th>7204754148424990691</th>\n",
       "      <td>251.0</td>\n",
       "    </tr>\n",
       "    <tr>\n",
       "      <th>333739223557249</th>\n",
       "      <th>1472231361867825698</th>\n",
       "      <td>42.0</td>\n",
       "    </tr>\n",
       "    <tr>\n",
       "      <th>543409855299780</th>\n",
       "      <th>6864443610550051939</th>\n",
       "      <td>132.0</td>\n",
       "    </tr>\n",
       "    <tr>\n",
       "      <th>558419615518316</th>\n",
       "      <th>1560592244484430230</th>\n",
       "      <td>321.0</td>\n",
       "    </tr>\n",
       "    <tr>\n",
       "      <th>604634251309011</th>\n",
       "      <th>174490086998335078</th>\n",
       "      <td>62.0</td>\n",
       "    </tr>\n",
       "    <tr>\n",
       "      <th>...</th>\n",
       "      <th>...</th>\n",
       "      <td>...</td>\n",
       "    </tr>\n",
       "    <tr>\n",
       "      <th>9221902625926189030</th>\n",
       "      <th>91460430793700892</th>\n",
       "      <td>245.0</td>\n",
       "    </tr>\n",
       "    <tr>\n",
       "      <th>9221965353179967195</th>\n",
       "      <th>7204754148424990691</th>\n",
       "      <td>160.0</td>\n",
       "    </tr>\n",
       "    <tr>\n",
       "      <th>9221979404917458468</th>\n",
       "      <th>4394253463123676325</th>\n",
       "      <td>273.0</td>\n",
       "    </tr>\n",
       "    <tr>\n",
       "      <th>9222870358680955478</th>\n",
       "      <th>3187769798308634693</th>\n",
       "      <td>174.0</td>\n",
       "    </tr>\n",
       "    <tr>\n",
       "      <th>9223102961192132343</th>\n",
       "      <th>3187769798308634693</th>\n",
       "      <td>713.0</td>\n",
       "    </tr>\n",
       "  </tbody>\n",
       "</table>\n",
       "<p>86482 rows × 1 columns</p>\n",
       "</div>"
      ],
      "text/plain": [
       "                                         revenue_amount\n",
       "user_id             category                           \n",
       "277934167554935     7204754148424990691           251.0\n",
       "333739223557249     1472231361867825698            42.0\n",
       "543409855299780     6864443610550051939           132.0\n",
       "558419615518316     1560592244484430230           321.0\n",
       "604634251309011     174490086998335078             62.0\n",
       "...                                                 ...\n",
       "9221902625926189030 91460430793700892             245.0\n",
       "9221965353179967195 7204754148424990691           160.0\n",
       "9221979404917458468 4394253463123676325           273.0\n",
       "9222870358680955478 3187769798308634693           174.0\n",
       "9223102961192132343 3187769798308634693           713.0\n",
       "\n",
       "[86482 rows x 1 columns]"
      ]
     },
     "execution_count": 218,
     "metadata": {},
     "output_type": "execute_result"
    }
   ],
   "source": [
    "segmented_users = test.groupby(by = ['user_id', 'category'])['revenue_amount'].mean().to_frame()\n",
    "segmented_users"
   ]
  },
  {
   "cell_type": "code",
   "execution_count": 142,
   "metadata": {},
   "outputs": [],
   "source": [
    "def strat_probs(datafr, grouping, field):\n",
    "    smp = datafr[[grouping, field]].groupby(by = grouping).count()/datafr[[grouping, field]].shape[0]\n",
    "    smp = smp.rename(columns = {field: 'prob'})\n",
    "    return smp"
   ]
  },
  {
   "cell_type": "code",
   "execution_count": 194,
   "metadata": {},
   "outputs": [],
   "source": [
    "def post_strat(datafr, probs, grouping, field):\n",
    "    n = datafr.shape[0]\n",
    "    smp = datafr.groupby(by =  grouping).std()\n",
    "    smp = smp.rename(columns = {field: 'std'})\n",
    "    smp['means'] = datafr.groupby(by =  grouping).mean()\n",
    "    smp = smp.merge(probs, left_on=grouping, right_on=grouping)\n",
    "    strat_mean = smp['means']@smp['prob']\n",
    "    strat_var = (1/n)*((np.array(smp['std'])**2)@np.array(smp['prob'])) + (1/n**2)*((1 - np.array(smp['prob'])@np.array(smp['std']))**2)\n",
    "    return strat_mean, (strat_var)**0.5"
   ]
  },
  {
   "cell_type": "code",
   "execution_count": 203,
   "metadata": {
    "scrolled": true
   },
   "outputs": [],
   "source": [
    "probabil = strat_probs(df, 'category', 'revenue_amount')"
   ]
  },
  {
   "cell_type": "code",
   "execution_count": 219,
   "metadata": {},
   "outputs": [
    {
     "data": {
      "text/plain": [
       "(378.63158943328585, 2.4930854827506232)"
      ]
     },
     "execution_count": 219,
     "metadata": {},
     "output_type": "execute_result"
    }
   ],
   "source": [
    "post_strat(segmented_users, probabil,  'category', 'revenue_amount')"
   ]
  },
  {
   "cell_type": "code",
   "execution_count": 220,
   "metadata": {},
   "outputs": [
    {
     "data": {
      "text/plain": [
       "379.85329134928935"
      ]
     },
     "execution_count": 220,
     "metadata": {},
     "output_type": "execute_result"
    }
   ],
   "source": [
    "segmented_users['revenue_amount'].mean()"
   ]
  },
  {
   "cell_type": "code",
   "execution_count": 221,
   "metadata": {},
   "outputs": [
    {
     "data": {
      "text/plain": [
       "2.583088347323215"
      ]
     },
     "execution_count": 221,
     "metadata": {},
     "output_type": "execute_result"
    }
   ],
   "source": [
    "segmented_users['revenue_amount'].sem()"
   ]
  },
  {
   "cell_type": "markdown",
   "metadata": {},
   "source": [
    "Дисперсия и ошибка среднего для этого датасета без стратификации есть:"
   ]
  },
  {
   "cell_type": "code",
   "execution_count": 6,
   "metadata": {},
   "outputs": [
    {
     "data": {
      "text/plain": [
       "(400.9046571917269, 0.32694205319458997)"
      ]
     },
     "execution_count": 6,
     "metadata": {},
     "output_type": "execute_result"
    }
   ],
   "source": [
    "(df['revenue_amount'].mean(), df['revenue_amount'].sem())"
   ]
  },
  {
   "cell_type": "markdown",
   "metadata": {},
   "source": [
    "1. Для страты **user_segment**"
   ]
  },
  {
   "cell_type": "code",
   "execution_count": 7,
   "metadata": {},
   "outputs": [
    {
     "data": {
      "text/plain": [
       "(400.9046571917269, 0.31402051662122665)"
      ]
     },
     "execution_count": 7,
     "metadata": {},
     "output_type": "execute_result"
    }
   ],
   "source": [
    "post_strat(df, 'user_segment', 'revenue_amount')"
   ]
  },
  {
   "cell_type": "markdown",
   "metadata": {},
   "source": [
    "$\\overline{X}_{strat} = 400.9, var(\\overline{X}_{strat}) = 0.098$ для **user_segment**."
   ]
  },
  {
   "cell_type": "markdown",
   "metadata": {},
   "source": [
    "2. Для страты **category**"
   ]
  },
  {
   "cell_type": "code",
   "execution_count": 8,
   "metadata": {},
   "outputs": [
    {
     "data": {
      "text/plain": [
       "(400.904657191727, 0.32066253319877325)"
      ]
     },
     "execution_count": 8,
     "metadata": {},
     "output_type": "execute_result"
    }
   ],
   "source": [
    "post_strat(df, 'category', 'revenue_amount')"
   ]
  },
  {
   "cell_type": "markdown",
   "metadata": {},
   "source": [
    "$\\overline{X}_{strat} = 400.9, var(\\overline{X}_{strat}) = 0.102$ для **category**."
   ]
  },
  {
   "cell_type": "markdown",
   "metadata": {},
   "source": [
    "3. Для страты **region**"
   ]
  },
  {
   "cell_type": "code",
   "execution_count": 9,
   "metadata": {},
   "outputs": [
    {
     "data": {
      "text/plain": [
       "(400.904657191727, 0.3229770897369023)"
      ]
     },
     "execution_count": 9,
     "metadata": {},
     "output_type": "execute_result"
    }
   ],
   "source": [
    "post_strat(df, 'region', 'revenue_amount')"
   ]
  },
  {
   "cell_type": "markdown",
   "metadata": {},
   "source": [
    "$\\overline{X}_{strat} = 400.9, \\overline{X}_{strat} = 0.104$ для **region**."
   ]
  },
  {
   "cell_type": "markdown",
   "metadata": {},
   "source": []
  },
  {
   "cell_type": "code",
   "execution_count": null,
   "metadata": {},
   "outputs": [],
   "source": []
  },
  {
   "cell_type": "code",
   "execution_count": null,
   "metadata": {},
   "outputs": [],
   "source": []
  },
  {
   "cell_type": "code",
   "execution_count": null,
   "metadata": {},
   "outputs": [],
   "source": []
  },
  {
   "cell_type": "markdown",
   "metadata": {},
   "source": [
    "- **В каких срезах достигается наибольшее снижение MDE?**"
   ]
  },
  {
   "cell_type": "code",
   "execution_count": null,
   "metadata": {},
   "outputs": [],
   "source": []
  },
  {
   "cell_type": "code",
   "execution_count": null,
   "metadata": {},
   "outputs": [],
   "source": []
  },
  {
   "cell_type": "code",
   "execution_count": null,
   "metadata": {},
   "outputs": [],
   "source": []
  },
  {
   "cell_type": "markdown",
   "metadata": {},
   "source": [
    "- **Доп. задание от Алексея: соединить CUPED со стратификацией и посмотреть что будет**"
   ]
  },
  {
   "cell_type": "code",
   "execution_count": null,
   "metadata": {},
   "outputs": [],
   "source": []
  }
 ],
 "metadata": {
  "kernelspec": {
   "display_name": "Python 3",
   "language": "python",
   "name": "python3"
  },
  "language_info": {
   "codemirror_mode": {
    "name": "ipython",
    "version": 3
   },
   "file_extension": ".py",
   "mimetype": "text/x-python",
   "name": "python",
   "nbconvert_exporter": "python",
   "pygments_lexer": "ipython3",
   "version": "3.8.8"
  }
 },
 "nbformat": 4,
 "nbformat_minor": 4
}
